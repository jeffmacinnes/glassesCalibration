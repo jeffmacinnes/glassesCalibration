{
 "cells": [
  {
   "cell_type": "code",
   "execution_count": 29,
   "metadata": {
    "collapsed": true
   },
   "outputs": [],
   "source": [
    "from __future__ import division\n",
    "import os\n",
    "import sys\n",
    "import pandas as pd\n",
    "import numpy as np\n"
   ]
  },
  {
   "cell_type": "code",
   "execution_count": 3,
   "metadata": {
    "collapsed": false
   },
   "outputs": [
    {
     "name": "stdout",
     "output_type": "stream",
     "text": [
      "Populating the interactive namespace from numpy and matplotlib\n"
     ]
    }
   ],
   "source": [
    "%pylab inline"
   ]
  },
  {
   "cell_type": "code",
   "execution_count": 69,
   "metadata": {
    "collapsed": true
   },
   "outputs": [],
   "source": [
    "matplotlib.rc('ytick', labelsize=20) \n",
    "matplotlib.rc('xtick', labelsize=20) "
   ]
  },
  {
   "cell_type": "markdown",
   "metadata": {},
   "source": [
    "### Define helper functions\n",
    "Just some basic tools that'll be helpful throughout the analysis"
   ]
  },
  {
   "cell_type": "code",
   "execution_count": 57,
   "metadata": {
    "collapsed": false
   },
   "outputs": [],
   "source": [
    "# tools for translating between 2D and 1D position indices for the calibration grid\n",
    "calibGridDims = [5,5]\n",
    "def getPtIdx(x,y):\n",
    "    ptIdx = ((y-1)*calibGridDims[0]) + x\n",
    "    return ptIdx\n",
    "\n",
    "def getRowIdx(ptIdx):\n",
    "    print ptIdx\n",
    "    row,col = np.unravel_index(ptIdx-1, (calibGridDims[0],calibGridDims[1]))\n",
    "    row = row+1\n",
    "    col = col+1\n",
    "    return row, col\n"
   ]
  },
  {
   "cell_type": "code",
   "execution_count": 178,
   "metadata": {
    "collapsed": true
   },
   "outputs": [],
   "source": [
    "# convert between cartesian and polar coordinates\n",
    "def polar2cart(dist, angle):\n",
    "    x = dist * np.cos(np.deg2rad(angle))\n",
    "    y = dist * np.sin(np.deg2rad(angle))\n",
    "    return x,y"
   ]
  },
  {
   "cell_type": "code",
   "execution_count": 185,
   "metadata": {
    "collapsed": true
   },
   "outputs": [],
   "source": [
    "# base plot for accuracy plotting\n",
    "def plotCalibration(calibPts, figTitle):\n",
    "    \"\"\"\n",
    "    calibPts is a nx3 array, where each row represents one pt to be plotted. \n",
    "    Each row should contain, in order: distance, angle, and RMS for that point\n",
    "    \"\"\"\n",
    "    \n",
    "    # start figure\n",
    "    fig = plt.figure(figsize=(8,8))\n",
    "    fig.suptitle(figTitle, fontsize=20, fontweight='bold')\n",
    "    ax = fig.add_subplot(111)\n",
    "    xRange = yRange = [-3.5, 3.5]\n",
    "    ax.set_ylim(yRange[0], yRange[1])\n",
    "    ax.set_xlim(xRange[0], xRange[1])\n",
    "\n",
    "    # add circle at center for reference\n",
    "    ax.scatter(0,0, s=1000, facecolor='black', alpha=.4)  # put circle at center for reference\n",
    "    \n",
    "    ax.spines['left'].set_position('center')\n",
    "    ax.spines['right'].set_visible(False)\n",
    "    ax.yaxis.set_ticks([])\n",
    "\n",
    "    ax.spines['bottom'].set_position('center')\n",
    "    ax.spines['top'].set_visible(False)\n",
    "    ax.xaxis.set_ticks([])\n",
    "\n",
    "    # Add circles as tickmarks\n",
    "    for r in range(1,4):\n",
    "        circle1 = plt.Circle((0,0), r, color='k', fill=False, ls=':', alpha=.6)\n",
    "        ax.add_artist(circle1)\n",
    "\n",
    "    # add cross lines\n",
    "    lineExtent = 2.75\n",
    "    ax.plot([-lineExtent, lineExtent], [-lineExtent, lineExtent], ls=':', color='k')\n",
    "    ax.plot([-lineExtent, lineExtent], [lineExtent, -lineExtent], ls=':', color='k')\n",
    "\n",
    "    # add labels\n",
    "    ax.text(xRange[1]+.1, 0, '0$^\\circ$ ', fontsize=15, verticalalignment='center', horizontalalignment='left')\n",
    "    ax.text(lineExtent+.1, lineExtent+.1, '45$^\\circ$ ', fontsize=15, horizontalalignment='left')\n",
    "    ax.text(0, yRange[1]+.1, '90$^\\circ$ ', fontsize=15, horizontalalignment='center')\n",
    "    ax.text(-lineExtent-.1, lineExtent+.1, '135$^\\circ$ ', fontsize=15, horizontalalignment='right')\n",
    "    ax.text(xRange[0]-.1, 0, '180$^\\circ$ ', fontsize=15, verticalalignment='center', horizontalalignment='right')\n",
    "    ax.text(-lineExtent, -lineExtent-.1, '225$^\\circ$ ', fontsize=15, horizontalalignment='right')\n",
    "    ax.text(0, yRange[0]-.1, '270$^\\circ$ ', fontsize=15, verticalalignment='top', horizontalalignment='center')\n",
    "    ax.text(lineExtent+.1, -lineExtent-.1, '315$^\\circ$ ', fontsize=15, horizontalalignment='left')\n",
    "\n",
    "    for i in range(1,4):\n",
    "        ax.text(np.cos(np.deg2rad(45))*i + .15, \n",
    "                np.sin(np.deg2rad(45))*i - .1, \n",
    "                str(i) + '$^\\circ$ ', \n",
    "                fontsize=15,\n",
    "                weight='bold',\n",
    "                horizontalalignment='left')\n",
    "        \n",
    "    ####################### Plot the datapoints\n",
    "    for pt in calibPts:\n",
    "        dist = pt[0]\n",
    "        angle = pt[1]\n",
    "        rms = pt[2]\n",
    "        \n",
    "        x,y = polar2cart(dist, angle)\n",
    "        \n",
    "        # plot the location\n",
    "        loc = plt.Circle((x,y), .1, color='firebrick')\n",
    "        \n",
    "        # plot the rms\n",
    "        spread = plt.Circle((x,y), rms/2, color='firebrick', alpha=.4)\n",
    "        \n",
    "        ax.add_artist(loc)\n",
    "        ax.add_artist(spread)\n",
    "        "
   ]
  },
  {
   "cell_type": "markdown",
   "metadata": {},
   "source": [
    "## Load/Prep Data"
   ]
  },
  {
   "cell_type": "code",
   "execution_count": 4,
   "metadata": {
    "collapsed": false
   },
   "outputs": [],
   "source": [
    "# read in combined subjects dataframe\n",
    "df = pd.read_csv('allConds_uniqueSubjs.csv', sep='\\t')"
   ]
  },
  {
   "cell_type": "code",
   "execution_count": 5,
   "metadata": {
    "collapsed": false
   },
   "outputs": [
    {
     "data": {
      "text/html": [
       "<div>\n",
       "<table border=\"1\" class=\"dataframe\">\n",
       "  <thead>\n",
       "    <tr style=\"text-align: right;\">\n",
       "      <th></th>\n",
       "      <th>RMS</th>\n",
       "      <th>centAngle</th>\n",
       "      <th>centDist</th>\n",
       "      <th>centX</th>\n",
       "      <th>centY</th>\n",
       "      <th>percentValid</th>\n",
       "      <th>ptIdx</th>\n",
       "      <th>condition</th>\n",
       "      <th>subj</th>\n",
       "      <th>offset</th>\n",
       "    </tr>\n",
       "  </thead>\n",
       "  <tbody>\n",
       "    <tr>\n",
       "      <th>0</th>\n",
       "      <td>0.67</td>\n",
       "      <td>271.72</td>\n",
       "      <td>1.65</td>\n",
       "      <td>341.60</td>\n",
       "      <td>1108.90</td>\n",
       "      <td>1.00</td>\n",
       "      <td>22</td>\n",
       "      <td>e_0deg</td>\n",
       "      <td>e</td>\n",
       "      <td>0deg</td>\n",
       "    </tr>\n",
       "    <tr>\n",
       "      <th>1</th>\n",
       "      <td>0.42</td>\n",
       "      <td>295.66</td>\n",
       "      <td>2.22</td>\n",
       "      <td>660.21</td>\n",
       "      <td>833.53</td>\n",
       "      <td>0.94</td>\n",
       "      <td>13</td>\n",
       "      <td>e_0deg</td>\n",
       "      <td>e</td>\n",
       "      <td>0deg</td>\n",
       "    </tr>\n",
       "    <tr>\n",
       "      <th>2</th>\n",
       "      <td>0.58</td>\n",
       "      <td>285.25</td>\n",
       "      <td>2.71</td>\n",
       "      <td>785.50</td>\n",
       "      <td>602.52</td>\n",
       "      <td>0.96</td>\n",
       "      <td>4</td>\n",
       "      <td>e_0deg</td>\n",
       "      <td>e</td>\n",
       "      <td>0deg</td>\n",
       "    </tr>\n",
       "    <tr>\n",
       "      <th>3</th>\n",
       "      <td>0.61</td>\n",
       "      <td>313.76</td>\n",
       "      <td>2.34</td>\n",
       "      <td>436.32</td>\n",
       "      <td>614.94</td>\n",
       "      <td>1.00</td>\n",
       "      <td>6</td>\n",
       "      <td>e_0deg</td>\n",
       "      <td>e</td>\n",
       "      <td>0deg</td>\n",
       "    </tr>\n",
       "    <tr>\n",
       "      <th>4</th>\n",
       "      <td>0.16</td>\n",
       "      <td>284.53</td>\n",
       "      <td>2.58</td>\n",
       "      <td>274.73</td>\n",
       "      <td>1083.69</td>\n",
       "      <td>0.98</td>\n",
       "      <td>16</td>\n",
       "      <td>e_0deg</td>\n",
       "      <td>e</td>\n",
       "      <td>0deg</td>\n",
       "    </tr>\n",
       "  </tbody>\n",
       "</table>\n",
       "</div>"
      ],
      "text/plain": [
       "    RMS  centAngle  centDist   centX    centY  percentValid  ptIdx condition  \\\n",
       "0  0.67     271.72      1.65  341.60  1108.90          1.00     22    e_0deg   \n",
       "1  0.42     295.66      2.22  660.21   833.53          0.94     13    e_0deg   \n",
       "2  0.58     285.25      2.71  785.50   602.52          0.96      4    e_0deg   \n",
       "3  0.61     313.76      2.34  436.32   614.94          1.00      6    e_0deg   \n",
       "4  0.16     284.53      2.58  274.73  1083.69          0.98     16    e_0deg   \n",
       "\n",
       "  subj offset  \n",
       "0    e   0deg  \n",
       "1    e   0deg  \n",
       "2    e   0deg  \n",
       "3    e   0deg  \n",
       "4    e   0deg  "
      ]
     },
     "execution_count": 5,
     "metadata": {},
     "output_type": "execute_result"
    }
   ],
   "source": [
    "df.head()"
   ]
  },
  {
   "cell_type": "markdown",
   "metadata": {},
   "source": [
    "### convert condition labels cols to categorical dtype\n",
    "This will create columns with unique codes for each subject, and unique codes for each condition"
   ]
  },
  {
   "cell_type": "code",
   "execution_count": 10,
   "metadata": {
    "collapsed": false
   },
   "outputs": [],
   "source": [
    "# convert to categorical dtype\n",
    "df['subjCode'] = df.loc[:,'subj'].astype('category')\n",
    "df['offsetCode'] = df.loc[:,'offset'].astype('category')\n",
    "\n",
    "# show the numbers instead of labels\n",
    "cat_columns = df.select_dtypes(['category']).columns\n",
    "df[cat_columns] = df[cat_columns].apply(lambda x: x.cat.codes)"
   ]
  },
  {
   "cell_type": "code",
   "execution_count": 11,
   "metadata": {
    "collapsed": false
   },
   "outputs": [
    {
     "data": {
      "text/html": [
       "<div>\n",
       "<table border=\"1\" class=\"dataframe\">\n",
       "  <thead>\n",
       "    <tr style=\"text-align: right;\">\n",
       "      <th></th>\n",
       "      <th>RMS</th>\n",
       "      <th>centAngle</th>\n",
       "      <th>centDist</th>\n",
       "      <th>centX</th>\n",
       "      <th>centY</th>\n",
       "      <th>percentValid</th>\n",
       "      <th>ptIdx</th>\n",
       "      <th>condition</th>\n",
       "      <th>subj</th>\n",
       "      <th>offset</th>\n",
       "      <th>subjCode</th>\n",
       "      <th>offsetCode</th>\n",
       "    </tr>\n",
       "  </thead>\n",
       "  <tbody>\n",
       "    <tr>\n",
       "      <th>0</th>\n",
       "      <td>0.67</td>\n",
       "      <td>271.72</td>\n",
       "      <td>1.65</td>\n",
       "      <td>341.60</td>\n",
       "      <td>1108.90</td>\n",
       "      <td>1.00</td>\n",
       "      <td>22</td>\n",
       "      <td>e_0deg</td>\n",
       "      <td>e</td>\n",
       "      <td>0deg</td>\n",
       "      <td>0</td>\n",
       "      <td>0</td>\n",
       "    </tr>\n",
       "    <tr>\n",
       "      <th>1</th>\n",
       "      <td>0.42</td>\n",
       "      <td>295.66</td>\n",
       "      <td>2.22</td>\n",
       "      <td>660.21</td>\n",
       "      <td>833.53</td>\n",
       "      <td>0.94</td>\n",
       "      <td>13</td>\n",
       "      <td>e_0deg</td>\n",
       "      <td>e</td>\n",
       "      <td>0deg</td>\n",
       "      <td>0</td>\n",
       "      <td>0</td>\n",
       "    </tr>\n",
       "    <tr>\n",
       "      <th>2</th>\n",
       "      <td>0.58</td>\n",
       "      <td>285.25</td>\n",
       "      <td>2.71</td>\n",
       "      <td>785.50</td>\n",
       "      <td>602.52</td>\n",
       "      <td>0.96</td>\n",
       "      <td>4</td>\n",
       "      <td>e_0deg</td>\n",
       "      <td>e</td>\n",
       "      <td>0deg</td>\n",
       "      <td>0</td>\n",
       "      <td>0</td>\n",
       "    </tr>\n",
       "    <tr>\n",
       "      <th>3</th>\n",
       "      <td>0.61</td>\n",
       "      <td>313.76</td>\n",
       "      <td>2.34</td>\n",
       "      <td>436.32</td>\n",
       "      <td>614.94</td>\n",
       "      <td>1.00</td>\n",
       "      <td>6</td>\n",
       "      <td>e_0deg</td>\n",
       "      <td>e</td>\n",
       "      <td>0deg</td>\n",
       "      <td>0</td>\n",
       "      <td>0</td>\n",
       "    </tr>\n",
       "    <tr>\n",
       "      <th>4</th>\n",
       "      <td>0.16</td>\n",
       "      <td>284.53</td>\n",
       "      <td>2.58</td>\n",
       "      <td>274.73</td>\n",
       "      <td>1083.69</td>\n",
       "      <td>0.98</td>\n",
       "      <td>16</td>\n",
       "      <td>e_0deg</td>\n",
       "      <td>e</td>\n",
       "      <td>0deg</td>\n",
       "      <td>0</td>\n",
       "      <td>0</td>\n",
       "    </tr>\n",
       "  </tbody>\n",
       "</table>\n",
       "</div>"
      ],
      "text/plain": [
       "    RMS  centAngle  centDist   centX    centY  percentValid  ptIdx condition  \\\n",
       "0  0.67     271.72      1.65  341.60  1108.90          1.00     22    e_0deg   \n",
       "1  0.42     295.66      2.22  660.21   833.53          0.94     13    e_0deg   \n",
       "2  0.58     285.25      2.71  785.50   602.52          0.96      4    e_0deg   \n",
       "3  0.61     313.76      2.34  436.32   614.94          1.00      6    e_0deg   \n",
       "4  0.16     284.53      2.58  274.73  1083.69          0.98     16    e_0deg   \n",
       "\n",
       "  subj offset  subjCode  offsetCode  \n",
       "0    e   0deg         0           0  \n",
       "1    e   0deg         0           0  \n",
       "2    e   0deg         0           0  \n",
       "3    e   0deg         0           0  \n",
       "4    e   0deg         0           0  "
      ]
     },
     "execution_count": 11,
     "metadata": {},
     "output_type": "execute_result"
    }
   ],
   "source": [
    "df.head()"
   ]
  },
  {
   "cell_type": "markdown",
   "metadata": {},
   "source": [
    "### remove invalid trials from the dataset"
   ]
  },
  {
   "cell_type": "code",
   "execution_count": 13,
   "metadata": {
    "collapsed": false
   },
   "outputs": [
    {
     "name": "stdout",
     "output_type": "stream",
     "text": [
      "(525, 12)\n",
      "(508, 12)\n"
     ]
    }
   ],
   "source": [
    "print df.shape\n",
    "dfClean = df[df.percentValid >= .8]\n",
    "print dfClean.shape"
   ]
  },
  {
   "cell_type": "markdown",
   "metadata": {},
   "source": [
    "# Analyze Calibration Accuracy at 0deg offset\n",
    "How accurately do the gaze points map on to the calibration grid locations when the grid is positioned directly in front of the participant"
   ]
  },
  {
   "cell_type": "code",
   "execution_count": 15,
   "metadata": {
    "collapsed": false
   },
   "outputs": [],
   "source": [
    "# grab the 0-deg offset trials\n",
    "df_0deg = dfClean.loc[dfClean.offsetCode==0, :]"
   ]
  },
  {
   "cell_type": "code",
   "execution_count": 58,
   "metadata": {
    "collapsed": false
   },
   "outputs": [
    {
     "data": {
      "text/html": [
       "<div>\n",
       "<table border=\"1\" class=\"dataframe\">\n",
       "  <thead>\n",
       "    <tr style=\"text-align: right;\">\n",
       "      <th></th>\n",
       "      <th>RMS</th>\n",
       "      <th>centAngle</th>\n",
       "      <th>centDist</th>\n",
       "      <th>centX</th>\n",
       "      <th>centY</th>\n",
       "      <th>percentValid</th>\n",
       "      <th>ptIdx</th>\n",
       "      <th>condition</th>\n",
       "      <th>subj</th>\n",
       "      <th>offset</th>\n",
       "      <th>subjCode</th>\n",
       "      <th>offsetCode</th>\n",
       "    </tr>\n",
       "  </thead>\n",
       "  <tbody>\n",
       "    <tr>\n",
       "      <th>0</th>\n",
       "      <td>0.67</td>\n",
       "      <td>271.72</td>\n",
       "      <td>1.65</td>\n",
       "      <td>341.60</td>\n",
       "      <td>1108.90</td>\n",
       "      <td>1.00</td>\n",
       "      <td>22</td>\n",
       "      <td>e_0deg</td>\n",
       "      <td>e</td>\n",
       "      <td>0deg</td>\n",
       "      <td>0</td>\n",
       "      <td>0</td>\n",
       "    </tr>\n",
       "    <tr>\n",
       "      <th>1</th>\n",
       "      <td>0.42</td>\n",
       "      <td>295.66</td>\n",
       "      <td>2.22</td>\n",
       "      <td>660.21</td>\n",
       "      <td>833.53</td>\n",
       "      <td>0.94</td>\n",
       "      <td>13</td>\n",
       "      <td>e_0deg</td>\n",
       "      <td>e</td>\n",
       "      <td>0deg</td>\n",
       "      <td>0</td>\n",
       "      <td>0</td>\n",
       "    </tr>\n",
       "    <tr>\n",
       "      <th>2</th>\n",
       "      <td>0.58</td>\n",
       "      <td>285.25</td>\n",
       "      <td>2.71</td>\n",
       "      <td>785.50</td>\n",
       "      <td>602.52</td>\n",
       "      <td>0.96</td>\n",
       "      <td>4</td>\n",
       "      <td>e_0deg</td>\n",
       "      <td>e</td>\n",
       "      <td>0deg</td>\n",
       "      <td>0</td>\n",
       "      <td>0</td>\n",
       "    </tr>\n",
       "    <tr>\n",
       "      <th>3</th>\n",
       "      <td>0.61</td>\n",
       "      <td>313.76</td>\n",
       "      <td>2.34</td>\n",
       "      <td>436.32</td>\n",
       "      <td>614.94</td>\n",
       "      <td>1.00</td>\n",
       "      <td>6</td>\n",
       "      <td>e_0deg</td>\n",
       "      <td>e</td>\n",
       "      <td>0deg</td>\n",
       "      <td>0</td>\n",
       "      <td>0</td>\n",
       "    </tr>\n",
       "    <tr>\n",
       "      <th>4</th>\n",
       "      <td>0.16</td>\n",
       "      <td>284.53</td>\n",
       "      <td>2.58</td>\n",
       "      <td>274.73</td>\n",
       "      <td>1083.69</td>\n",
       "      <td>0.98</td>\n",
       "      <td>16</td>\n",
       "      <td>e_0deg</td>\n",
       "      <td>e</td>\n",
       "      <td>0deg</td>\n",
       "      <td>0</td>\n",
       "      <td>0</td>\n",
       "    </tr>\n",
       "  </tbody>\n",
       "</table>\n",
       "</div>"
      ],
      "text/plain": [
       "    RMS  centAngle  centDist   centX    centY  percentValid  ptIdx condition  \\\n",
       "0  0.67     271.72      1.65  341.60  1108.90          1.00     22    e_0deg   \n",
       "1  0.42     295.66      2.22  660.21   833.53          0.94     13    e_0deg   \n",
       "2  0.58     285.25      2.71  785.50   602.52          0.96      4    e_0deg   \n",
       "3  0.61     313.76      2.34  436.32   614.94          1.00      6    e_0deg   \n",
       "4  0.16     284.53      2.58  274.73  1083.69          0.98     16    e_0deg   \n",
       "\n",
       "  subj offset  subjCode  offsetCode  \n",
       "0    e   0deg         0           0  \n",
       "1    e   0deg         0           0  \n",
       "2    e   0deg         0           0  \n",
       "3    e   0deg         0           0  \n",
       "4    e   0deg         0           0  "
      ]
     },
     "execution_count": 58,
     "metadata": {},
     "output_type": "execute_result"
    }
   ],
   "source": [
    "df_0deg.head()"
   ]
  },
  {
   "cell_type": "markdown",
   "metadata": {},
   "source": [
    "Calculate an overall mean across all calibration points for each subject"
   ]
  },
  {
   "cell_type": "code",
   "execution_count": 60,
   "metadata": {
    "collapsed": false
   },
   "outputs": [],
   "source": [
    "subj_mean = df_0deg.groupby('subjCode').mean()"
   ]
  },
  {
   "cell_type": "code",
   "execution_count": 61,
   "metadata": {
    "collapsed": false
   },
   "outputs": [
    {
     "data": {
      "text/html": [
       "<div>\n",
       "<table border=\"1\" class=\"dataframe\">\n",
       "  <thead>\n",
       "    <tr style=\"text-align: right;\">\n",
       "      <th></th>\n",
       "      <th>RMS</th>\n",
       "      <th>centAngle</th>\n",
       "      <th>centDist</th>\n",
       "      <th>centX</th>\n",
       "      <th>centY</th>\n",
       "      <th>percentValid</th>\n",
       "      <th>ptIdx</th>\n",
       "      <th>offsetCode</th>\n",
       "    </tr>\n",
       "    <tr>\n",
       "      <th>subjCode</th>\n",
       "      <th></th>\n",
       "      <th></th>\n",
       "      <th></th>\n",
       "      <th></th>\n",
       "      <th></th>\n",
       "      <th></th>\n",
       "      <th></th>\n",
       "      <th></th>\n",
       "    </tr>\n",
       "  </thead>\n",
       "  <tbody>\n",
       "    <tr>\n",
       "      <th>0</th>\n",
       "      <td>0.5876</td>\n",
       "      <td>287.9324</td>\n",
       "      <td>2.5988</td>\n",
       "      <td>629.9164</td>\n",
       "      <td>899.7284</td>\n",
       "      <td>0.9672</td>\n",
       "      <td>13</td>\n",
       "      <td>0</td>\n",
       "    </tr>\n",
       "    <tr>\n",
       "      <th>1</th>\n",
       "      <td>0.3400</td>\n",
       "      <td>265.9180</td>\n",
       "      <td>1.4120</td>\n",
       "      <td>484.2228</td>\n",
       "      <td>732.5024</td>\n",
       "      <td>0.9632</td>\n",
       "      <td>13</td>\n",
       "      <td>0</td>\n",
       "    </tr>\n",
       "    <tr>\n",
       "      <th>2</th>\n",
       "      <td>0.6020</td>\n",
       "      <td>265.9444</td>\n",
       "      <td>1.1564</td>\n",
       "      <td>459.6152</td>\n",
       "      <td>681.3160</td>\n",
       "      <td>0.9376</td>\n",
       "      <td>13</td>\n",
       "      <td>0</td>\n",
       "    </tr>\n",
       "  </tbody>\n",
       "</table>\n",
       "</div>"
      ],
      "text/plain": [
       "             RMS  centAngle  centDist     centX     centY  percentValid  \\\n",
       "subjCode                                                                  \n",
       "0         0.5876   287.9324    2.5988  629.9164  899.7284        0.9672   \n",
       "1         0.3400   265.9180    1.4120  484.2228  732.5024        0.9632   \n",
       "2         0.6020   265.9444    1.1564  459.6152  681.3160        0.9376   \n",
       "\n",
       "          ptIdx  offsetCode  \n",
       "subjCode                     \n",
       "0            13           0  \n",
       "1            13           0  \n",
       "2            13           0  "
      ]
     },
     "execution_count": 61,
     "metadata": {},
     "output_type": "execute_result"
    }
   ],
   "source": [
    "subj_mean"
   ]
  },
  {
   "cell_type": "markdown",
   "metadata": {},
   "source": [
    "Calculate the group mean and standard error"
   ]
  },
  {
   "cell_type": "code",
   "execution_count": 68,
   "metadata": {
    "collapsed": false
   },
   "outputs": [
    {
     "name": "stdout",
     "output_type": "stream",
     "text": [
      "RMS               0.509867\n",
      "centAngle       273.264933\n",
      "centDist          1.722400\n",
      "centX           524.584800\n",
      "centY           771.182267\n",
      "percentValid      0.956000\n",
      "ptIdx            13.000000\n",
      "offsetCode        0.000000\n",
      "dtype: float64\n"
     ]
    }
   ],
   "source": [
    "group_mean = subj_mean.mean()\n",
    "group_sem = subj_mean.sem()\n",
    "print group_mean"
   ]
  },
  {
   "cell_type": "markdown",
   "metadata": {},
   "source": [
    "### Plot the group mean at 0-deg offset"
   ]
  },
  {
   "cell_type": "code",
   "execution_count": 188,
   "metadata": {
    "collapsed": false
   },
   "outputs": [
    {
     "data": {
      "image/png": "[encoded data removed]",
      "text/plain": [
       "<matplotlib.figure.Figure at 0x117c64cd0>"
      ]
     },
     "metadata": {},
     "output_type": "display_data"
    }
   ],
   "source": [
    "groupMeanPt = [group_mean.centDist, group_mean.centAngle, group_mean.RMS]\n",
    "pts = [groupMeanPt]\n",
    "plotCalibration(pts, 'Group Mean')"
   ]
  }
 ],
 "metadata": {
  "kernelspec": {
   "display_name": "Python 2",
   "language": "python",
   "name": "python2"
  },
  "language_info": {
   "codemirror_mode": {
    "name": "ipython",
    "version": 2
   },
   "file_extension": ".py",
   "mimetype": "text/x-python",
   "name": "python",
   "nbconvert_exporter": "python",
   "pygments_lexer": "ipython2",
   "version": "2.7.11"
  }
 },
 "nbformat": 4,
 "nbformat_minor": 0
}
