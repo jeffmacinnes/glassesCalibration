{
 "cells": [
  {
   "cell_type": "code",
   "execution_count": 1,
   "metadata": {
    "collapsed": true,
    "deletable": true,
    "editable": true
   },
   "outputs": [],
   "source": [
    "import os\n",
    "from os.path import join\n",
    "import numpy as np\n",
    "import pandas as pd\n",
    "import seaborn as sns"
   ]
  },
  {
   "cell_type": "code",
   "execution_count": 2,
   "metadata": {
    "collapsed": false,
    "deletable": true,
    "editable": true
   },
   "outputs": [
    {
     "name": "stdout",
     "output_type": "stream",
     "text": [
      "Populating the interactive namespace from numpy and matplotlib\n"
     ]
    }
   ],
   "source": [
    "%pylab inline"
   ]
  },
  {
   "cell_type": "code",
   "execution_count": 3,
   "metadata": {
    "collapsed": true,
    "deletable": true,
    "editable": true
   },
   "outputs": [],
   "source": [
    "sns.set(style='ticks')"
   ]
  },
  {
   "cell_type": "markdown",
   "metadata": {
    "deletable": true,
    "editable": true
   },
   "source": [
    "# Glasses Calibration Analyses\n",
    "A set of analyses comparing calibration performance across 3 different models of wearable eye-trackers: Tobii Glasses 2, SMI, and Pupil Labs. Each tracker was tested on 3 different subjects. Each subject performed calibration tasks at 3 different distances (1M, 2M, and 3M). At each distance, calibration was tested at 3 different conditons of visual angle offset (-10deg, 0deg, +10deg). "
   ]
  },
  {
   "cell_type": "markdown",
   "metadata": {
    "deletable": true,
    "editable": true
   },
   "source": [
    "### Load the combined calibration summaries file\n",
    "The calibration performance was summarized for each unique subject/glasses/distance/offset condition. These summarized files were combined into a single dataframe "
   ]
  },
  {
   "cell_type": "code",
   "execution_count": 4,
   "metadata": {
    "collapsed": false,
    "deletable": true,
    "editable": true
   },
   "outputs": [
    {
     "data": {
      "text/html": [
       "<div>\n",
       "<table border=\"1\" class=\"dataframe\">\n",
       "  <thead>\n",
       "    <tr style=\"text-align: right;\">\n",
       "      <th></th>\n",
       "      <th>trial</th>\n",
       "      <th>ptIdx</th>\n",
       "      <th>percentValid</th>\n",
       "      <th>centX</th>\n",
       "      <th>centY</th>\n",
       "      <th>centDist</th>\n",
       "      <th>centAngle</th>\n",
       "      <th>RMS</th>\n",
       "      <th>subj</th>\n",
       "      <th>glasses</th>\n",
       "      <th>dist</th>\n",
       "      <th>offset</th>\n",
       "      <th>condition</th>\n",
       "    </tr>\n",
       "  </thead>\n",
       "  <tbody>\n",
       "    <tr>\n",
       "      <th>0</th>\n",
       "      <td>1</td>\n",
       "      <td>15</td>\n",
       "      <td>1.983</td>\n",
       "      <td>872.513</td>\n",
       "      <td>456.424</td>\n",
       "      <td>0.683</td>\n",
       "      <td>408.041</td>\n",
       "      <td>0.113</td>\n",
       "      <td>101</td>\n",
       "      <td>Pupil Labs</td>\n",
       "      <td>1M</td>\n",
       "      <td>0deg</td>\n",
       "      <td>101_PupilLabs_1M_0deg</td>\n",
       "    </tr>\n",
       "    <tr>\n",
       "      <th>1</th>\n",
       "      <td>2</td>\n",
       "      <td>21</td>\n",
       "      <td>1.992</td>\n",
       "      <td>178.414</td>\n",
       "      <td>736.665</td>\n",
       "      <td>1.135</td>\n",
       "      <td>443.071</td>\n",
       "      <td>0.074</td>\n",
       "      <td>101</td>\n",
       "      <td>Pupil Labs</td>\n",
       "      <td>1M</td>\n",
       "      <td>0deg</td>\n",
       "      <td>101_PupilLabs_1M_0deg</td>\n",
       "    </tr>\n",
       "    <tr>\n",
       "      <th>2</th>\n",
       "      <td>3</td>\n",
       "      <td>3</td>\n",
       "      <td>1.983</td>\n",
       "      <td>529.483</td>\n",
       "      <td>128.252</td>\n",
       "      <td>0.564</td>\n",
       "      <td>412.494</td>\n",
       "      <td>0.114</td>\n",
       "      <td>101</td>\n",
       "      <td>Pupil Labs</td>\n",
       "      <td>1M</td>\n",
       "      <td>0deg</td>\n",
       "      <td>101_PupilLabs_1M_0deg</td>\n",
       "    </tr>\n",
       "    <tr>\n",
       "      <th>3</th>\n",
       "      <td>4</td>\n",
       "      <td>13</td>\n",
       "      <td>1.975</td>\n",
       "      <td>537.017</td>\n",
       "      <td>401.570</td>\n",
       "      <td>1.226</td>\n",
       "      <td>429.390</td>\n",
       "      <td>0.123</td>\n",
       "      <td>101</td>\n",
       "      <td>Pupil Labs</td>\n",
       "      <td>1M</td>\n",
       "      <td>0deg</td>\n",
       "      <td>101_PupilLabs_1M_0deg</td>\n",
       "    </tr>\n",
       "    <tr>\n",
       "      <th>4</th>\n",
       "      <td>5</td>\n",
       "      <td>25</td>\n",
       "      <td>1.983</td>\n",
       "      <td>862.071</td>\n",
       "      <td>709.513</td>\n",
       "      <td>1.481</td>\n",
       "      <td>436.933</td>\n",
       "      <td>0.087</td>\n",
       "      <td>101</td>\n",
       "      <td>Pupil Labs</td>\n",
       "      <td>1M</td>\n",
       "      <td>0deg</td>\n",
       "      <td>101_PupilLabs_1M_0deg</td>\n",
       "    </tr>\n",
       "  </tbody>\n",
       "</table>\n",
       "</div>"
      ],
      "text/plain": [
       "   trial  ptIdx  percentValid    centX    centY  centDist  centAngle    RMS  \\\n",
       "0      1     15         1.983  872.513  456.424     0.683    408.041  0.113   \n",
       "1      2     21         1.992  178.414  736.665     1.135    443.071  0.074   \n",
       "2      3      3         1.983  529.483  128.252     0.564    412.494  0.114   \n",
       "3      4     13         1.975  537.017  401.570     1.226    429.390  0.123   \n",
       "4      5     25         1.983  862.071  709.513     1.481    436.933  0.087   \n",
       "\n",
       "   subj     glasses dist offset              condition  \n",
       "0   101  Pupil Labs   1M   0deg  101_PupilLabs_1M_0deg  \n",
       "1   101  Pupil Labs   1M   0deg  101_PupilLabs_1M_0deg  \n",
       "2   101  Pupil Labs   1M   0deg  101_PupilLabs_1M_0deg  \n",
       "3   101  Pupil Labs   1M   0deg  101_PupilLabs_1M_0deg  \n",
       "4   101  Pupil Labs   1M   0deg  101_PupilLabs_1M_0deg  "
      ]
     },
     "execution_count": 4,
     "metadata": {},
     "output_type": "execute_result"
    }
   ],
   "source": [
    "df = pd.read_table('./allSubjs_calibrationSummary.tsv', sep='\\t')\n",
    "df.head()"
   ]
  },
  {
   "cell_type": "markdown",
   "metadata": {
    "deletable": true,
    "editable": true
   },
   "source": [
    "### average each condition across all calibration points\n",
    "The dataset above has summarized each individual calibration pt (9 total) for each unique condition. Before any other analyses, average the calibration performance across these 9pts for each condition"
   ]
  },
  {
   "cell_type": "code",
   "execution_count": 5,
   "metadata": {
    "collapsed": false,
    "deletable": true,
    "editable": true
   },
   "outputs": [
    {
     "data": {
      "text/html": [
       "<div>\n",
       "<table border=\"1\" class=\"dataframe\">\n",
       "  <thead>\n",
       "    <tr style=\"text-align: right;\">\n",
       "      <th></th>\n",
       "      <th>trial</th>\n",
       "      <th>ptIdx</th>\n",
       "      <th>percentValid</th>\n",
       "      <th>centX</th>\n",
       "      <th>centY</th>\n",
       "      <th>centDist</th>\n",
       "      <th>centAngle</th>\n",
       "      <th>RMS</th>\n",
       "      <th>subj</th>\n",
       "    </tr>\n",
       "    <tr>\n",
       "      <th>condition</th>\n",
       "      <th></th>\n",
       "      <th></th>\n",
       "      <th></th>\n",
       "      <th></th>\n",
       "      <th></th>\n",
       "      <th></th>\n",
       "      <th></th>\n",
       "      <th></th>\n",
       "      <th></th>\n",
       "    </tr>\n",
       "  </thead>\n",
       "  <tbody>\n",
       "    <tr>\n",
       "      <th>101_PupilLabs_1M_0deg</th>\n",
       "      <td>5</td>\n",
       "      <td>13</td>\n",
       "      <td>1.984111</td>\n",
       "      <td>520.207333</td>\n",
       "      <td>412.236778</td>\n",
       "      <td>1.085667</td>\n",
       "      <td>435.041556</td>\n",
       "      <td>0.107333</td>\n",
       "      <td>101</td>\n",
       "    </tr>\n",
       "    <tr>\n",
       "      <th>101_PupilLabs_1M_10Ldeg</th>\n",
       "      <td>5</td>\n",
       "      <td>13</td>\n",
       "      <td>1.983000</td>\n",
       "      <td>461.427000</td>\n",
       "      <td>433.862778</td>\n",
       "      <td>1.266556</td>\n",
       "      <td>401.677222</td>\n",
       "      <td>0.159333</td>\n",
       "      <td>101</td>\n",
       "    </tr>\n",
       "    <tr>\n",
       "      <th>101_PupilLabs_1M_10Rdeg</th>\n",
       "      <td>5</td>\n",
       "      <td>13</td>\n",
       "      <td>1.896111</td>\n",
       "      <td>604.473444</td>\n",
       "      <td>413.189667</td>\n",
       "      <td>1.649778</td>\n",
       "      <td>394.174667</td>\n",
       "      <td>0.129778</td>\n",
       "      <td>101</td>\n",
       "    </tr>\n",
       "    <tr>\n",
       "      <th>101_PupilLabs_2M_0deg</th>\n",
       "      <td>5</td>\n",
       "      <td>13</td>\n",
       "      <td>1.984000</td>\n",
       "      <td>338.907444</td>\n",
       "      <td>381.451000</td>\n",
       "      <td>1.178778</td>\n",
       "      <td>503.402444</td>\n",
       "      <td>0.080111</td>\n",
       "      <td>101</td>\n",
       "    </tr>\n",
       "    <tr>\n",
       "      <th>101_PupilLabs_2M_10Ldeg</th>\n",
       "      <td>5</td>\n",
       "      <td>13</td>\n",
       "      <td>1.979444</td>\n",
       "      <td>188.118556</td>\n",
       "      <td>499.280444</td>\n",
       "      <td>1.841111</td>\n",
       "      <td>339.786333</td>\n",
       "      <td>0.102667</td>\n",
       "      <td>101</td>\n",
       "    </tr>\n",
       "  </tbody>\n",
       "</table>\n",
       "</div>"
      ],
      "text/plain": [
       "                         trial  ptIdx  percentValid       centX       centY  \\\n",
       "condition                                                                     \n",
       "101_PupilLabs_1M_0deg        5     13      1.984111  520.207333  412.236778   \n",
       "101_PupilLabs_1M_10Ldeg      5     13      1.983000  461.427000  433.862778   \n",
       "101_PupilLabs_1M_10Rdeg      5     13      1.896111  604.473444  413.189667   \n",
       "101_PupilLabs_2M_0deg        5     13      1.984000  338.907444  381.451000   \n",
       "101_PupilLabs_2M_10Ldeg      5     13      1.979444  188.118556  499.280444   \n",
       "\n",
       "                         centDist   centAngle       RMS  subj  \n",
       "condition                                                      \n",
       "101_PupilLabs_1M_0deg    1.085667  435.041556  0.107333   101  \n",
       "101_PupilLabs_1M_10Ldeg  1.266556  401.677222  0.159333   101  \n",
       "101_PupilLabs_1M_10Rdeg  1.649778  394.174667  0.129778   101  \n",
       "101_PupilLabs_2M_0deg    1.178778  503.402444  0.080111   101  \n",
       "101_PupilLabs_2M_10Ldeg  1.841111  339.786333  0.102667   101  "
      ]
     },
     "execution_count": 5,
     "metadata": {},
     "output_type": "execute_result"
    }
   ],
   "source": [
    "df_cond = df.groupby('condition').mean()\n",
    "df_cond.head()"
   ]
  },
  {
   "cell_type": "code",
   "execution_count": 64,
   "metadata": {
    "collapsed": false,
    "deletable": true,
    "editable": true
   },
   "outputs": [
    {
     "ename": "AttributeError",
     "evalue": "'RangeIndex' object has no attribute 'split'",
     "output_type": "error",
     "traceback": [
      "\u001b[0;31m---------------------------------------------------------------------------\u001b[0m",
      "\u001b[0;31mAttributeError\u001b[0m                            Traceback (most recent call last)",
      "\u001b[0;32m<ipython-input-64-d6d2001abdf3>\u001b[0m in \u001b[0;36m<module>\u001b[0;34m()\u001b[0m\n\u001b[0;32m----> 1\u001b[0;31m \u001b[0mdf_cond\u001b[0m \u001b[0;34m=\u001b[0m \u001b[0mpd\u001b[0m\u001b[0;34m.\u001b[0m\u001b[0mDataFrame\u001b[0m\u001b[0;34m(\u001b[0m\u001b[0mdf\u001b[0m\u001b[0;34m.\u001b[0m\u001b[0mindex\u001b[0m\u001b[0;34m.\u001b[0m\u001b[0msplit\u001b[0m\u001b[0;34m(\u001b[0m\u001b[0;34m'_'\u001b[0m\u001b[0;34m)\u001b[0m\u001b[0;34m.\u001b[0m\u001b[0mtolist\u001b[0m\u001b[0;34m(\u001b[0m\u001b[0;34m)\u001b[0m\u001b[0;34m,\u001b[0m \u001b[0mcolumns\u001b[0m\u001b[0;34m=\u001b[0m\u001b[0;34m[\u001b[0m\u001b[0;34m'subj'\u001b[0m\u001b[0;34m,\u001b[0m \u001b[0;34m'glasses'\u001b[0m\u001b[0;34m,\u001b[0m \u001b[0;34m'dist'\u001b[0m\u001b[0;34m,\u001b[0m \u001b[0;34m'offset'\u001b[0m\u001b[0;34m]\u001b[0m\u001b[0;34m)\u001b[0m\u001b[0;34m\u001b[0m\u001b[0m\n\u001b[0m",
      "\u001b[0;31mAttributeError\u001b[0m: 'RangeIndex' object has no attribute 'split'"
     ]
    }
   ],
   "source": []
  },
  {
   "cell_type": "code",
   "execution_count": 60,
   "metadata": {
    "collapsed": false,
    "deletable": true,
    "editable": true
   },
   "outputs": [],
   "source": [
    "def splitConditions(row):\n",
    "    print(row.name)\n",
    "    "
   ]
  },
  {
   "cell_type": "code",
   "execution_count": 61,
   "metadata": {
    "collapsed": false,
    "deletable": true,
    "editable": true
   },
   "outputs": [
    {
     "name": "stdout",
     "output_type": "stream",
     "text": [
      "101_PupilLabs_1M_0deg\n",
      "101_PupilLabs_1M_10Ldeg\n",
      "101_PupilLabs_1M_10Rdeg\n",
      "101_PupilLabs_2M_0deg\n",
      "101_PupilLabs_2M_10Ldeg\n",
      "101_PupilLabs_2M_10Rdeg\n",
      "101_PupilLabs_3M_0deg\n",
      "101_PupilLabs_3M_10Ldeg\n",
      "101_PupilLabs_3M_10Rdeg\n",
      "101_SMI_1M_0deg\n",
      "101_SMI_1M_10Ldeg\n",
      "101_SMI_1M_10Rdeg\n",
      "101_SMI_2M_0deg\n",
      "101_SMI_2M_10Ldeg\n",
      "101_SMI_2M_10Rdeg\n",
      "101_SMI_3M_0deg\n",
      "101_SMI_3M_10Ldeg\n",
      "101_SMI_3M_10Rdeg\n",
      "101_Tobii_1M_0deg\n",
      "101_Tobii_1M_10Ldeg\n",
      "101_Tobii_1M_10Rdeg\n",
      "101_Tobii_2M_0deg\n",
      "101_Tobii_2M_10Ldeg\n",
      "101_Tobii_2M_10Rdeg\n",
      "101_Tobii_3M_0deg\n",
      "101_Tobii_3M_10Ldeg\n",
      "101_Tobii_3M_10Rdeg\n",
      "102_PupilLabs_1M_0deg\n",
      "102_PupilLabs_1M_10Ldeg\n",
      "102_PupilLabs_1M_10Rdeg\n",
      "102_PupilLabs_2M_0deg\n",
      "102_PupilLabs_2M_10Ldeg\n",
      "102_PupilLabs_2M_10Rdeg\n",
      "102_PupilLabs_3M_0deg\n",
      "102_PupilLabs_3M_10Ldeg\n",
      "102_PupilLabs_3M_10Rdeg\n",
      "102_SMI_1M_0deg\n",
      "102_SMI_1M_10Ldeg\n",
      "102_SMI_1M_10Rdeg\n",
      "102_SMI_2M_0deg\n",
      "102_SMI_2M_10Ldeg\n",
      "102_SMI_2M_10Rdeg\n",
      "102_SMI_3M_0deg\n",
      "102_SMI_3M_10Ldeg\n",
      "102_SMI_3M_10Rdeg\n",
      "102_Tobii_1M_0deg\n",
      "102_Tobii_1M_10Ldeg\n",
      "102_Tobii_1M_10Rdeg\n",
      "102_Tobii_2M_0deg\n",
      "102_Tobii_2M_10Ldeg\n",
      "102_Tobii_2M_10Rdeg\n",
      "102_Tobii_3M_0deg\n",
      "102_Tobii_3M_10Ldeg\n",
      "102_Tobii_3M_10Rdeg\n",
      "103_PupilLabs_1M_0deg\n",
      "103_PupilLabs_1M_10Ldeg\n",
      "103_PupilLabs_1M_10Rdeg\n",
      "103_PupilLabs_2M_0deg\n",
      "103_PupilLabs_2M_10Ldeg\n",
      "103_PupilLabs_2M_10Rdeg\n",
      "103_PupilLabs_3M_0deg\n",
      "103_PupilLabs_3M_10Ldeg\n",
      "103_PupilLabs_3M_10Rdeg\n",
      "103_SMI_1M_0deg\n",
      "103_SMI_1M_10Ldeg\n",
      "103_SMI_1M_10Rdeg\n",
      "103_SMI_2M_0deg\n",
      "103_SMI_2M_10Ldeg\n",
      "103_SMI_2M_10Rdeg\n",
      "103_SMI_3M_0deg\n",
      "103_SMI_3M_10Ldeg\n",
      "103_SMI_3M_10Rdeg\n",
      "103_Tobii_1M_0deg\n",
      "103_Tobii_1M_10Ldeg\n",
      "103_Tobii_1M_10Rdeg\n",
      "103_Tobii_2M_0deg\n",
      "103_Tobii_2M_10Ldeg\n",
      "103_Tobii_2M_10Rdeg\n",
      "103_Tobii_3M_0deg\n",
      "103_Tobii_3M_10Ldeg\n",
      "103_Tobii_3M_10Rdeg\n"
     ]
    },
    {
     "data": {
      "text/plain": [
       "condition\n",
       "101_PupilLabs_1M_0deg      None\n",
       "101_PupilLabs_1M_10Ldeg    None\n",
       "101_PupilLabs_1M_10Rdeg    None\n",
       "101_PupilLabs_2M_0deg      None\n",
       "101_PupilLabs_2M_10Ldeg    None\n",
       "101_PupilLabs_2M_10Rdeg    None\n",
       "101_PupilLabs_3M_0deg      None\n",
       "101_PupilLabs_3M_10Ldeg    None\n",
       "101_PupilLabs_3M_10Rdeg    None\n",
       "101_SMI_1M_0deg            None\n",
       "101_SMI_1M_10Ldeg          None\n",
       "101_SMI_1M_10Rdeg          None\n",
       "101_SMI_2M_0deg            None\n",
       "101_SMI_2M_10Ldeg          None\n",
       "101_SMI_2M_10Rdeg          None\n",
       "101_SMI_3M_0deg            None\n",
       "101_SMI_3M_10Ldeg          None\n",
       "101_SMI_3M_10Rdeg          None\n",
       "101_Tobii_1M_0deg          None\n",
       "101_Tobii_1M_10Ldeg        None\n",
       "101_Tobii_1M_10Rdeg        None\n",
       "101_Tobii_2M_0deg          None\n",
       "101_Tobii_2M_10Ldeg        None\n",
       "101_Tobii_2M_10Rdeg        None\n",
       "101_Tobii_3M_0deg          None\n",
       "101_Tobii_3M_10Ldeg        None\n",
       "101_Tobii_3M_10Rdeg        None\n",
       "102_PupilLabs_1M_0deg      None\n",
       "102_PupilLabs_1M_10Ldeg    None\n",
       "102_PupilLabs_1M_10Rdeg    None\n",
       "                           ... \n",
       "102_Tobii_3M_0deg          None\n",
       "102_Tobii_3M_10Ldeg        None\n",
       "102_Tobii_3M_10Rdeg        None\n",
       "103_PupilLabs_1M_0deg      None\n",
       "103_PupilLabs_1M_10Ldeg    None\n",
       "103_PupilLabs_1M_10Rdeg    None\n",
       "103_PupilLabs_2M_0deg      None\n",
       "103_PupilLabs_2M_10Ldeg    None\n",
       "103_PupilLabs_2M_10Rdeg    None\n",
       "103_PupilLabs_3M_0deg      None\n",
       "103_PupilLabs_3M_10Ldeg    None\n",
       "103_PupilLabs_3M_10Rdeg    None\n",
       "103_SMI_1M_0deg            None\n",
       "103_SMI_1M_10Ldeg          None\n",
       "103_SMI_1M_10Rdeg          None\n",
       "103_SMI_2M_0deg            None\n",
       "103_SMI_2M_10Ldeg          None\n",
       "103_SMI_2M_10Rdeg          None\n",
       "103_SMI_3M_0deg            None\n",
       "103_SMI_3M_10Ldeg          None\n",
       "103_SMI_3M_10Rdeg          None\n",
       "103_Tobii_1M_0deg          None\n",
       "103_Tobii_1M_10Ldeg        None\n",
       "103_Tobii_1M_10Rdeg        None\n",
       "103_Tobii_2M_0deg          None\n",
       "103_Tobii_2M_10Ldeg        None\n",
       "103_Tobii_2M_10Rdeg        None\n",
       "103_Tobii_3M_0deg          None\n",
       "103_Tobii_3M_10Ldeg        None\n",
       "103_Tobii_3M_10Rdeg        None\n",
       "dtype: object"
      ]
     },
     "execution_count": 61,
     "metadata": {},
     "output_type": "execute_result"
    }
   ],
   "source": [
    "df_cond.apply(splitConditions, axis=1)"
   ]
  },
  {
   "cell_type": "markdown",
   "metadata": {
    "deletable": true,
    "editable": true
   },
   "source": [
    "## Build a regression model to test influence of experimental vars\n",
    "Build a model to see if accuracy (centDist) is influenced by:\n",
    "\n",
    "* subj\n",
    "* glasses\n",
    "* dist\n",
    "* offset\n",
    "* ptIdx"
   ]
  },
  {
   "cell_type": "code",
   "execution_count": 8,
   "metadata": {
    "collapsed": false,
    "deletable": true,
    "editable": true
   },
   "outputs": [],
   "source": [
    "from statsmodels.formula.api import ols"
   ]
  },
  {
   "cell_type": "code",
   "execution_count": 10,
   "metadata": {
    "collapsed": false,
    "deletable": true,
    "editable": true
   },
   "outputs": [
    {
     "name": "stdout",
     "output_type": "stream",
     "text": [
      "                            OLS Regression Results                            \n",
      "==============================================================================\n",
      "Dep. Variable:               centDist   R-squared:                       0.165\n",
      "Model:                            OLS   Adj. R-squared:                  0.156\n",
      "Method:                 Least Squares   F-statistic:                     17.85\n",
      "Date:                Tue, 30 May 2017   Prob (F-statistic):           1.94e-24\n",
      "Time:                        14:38:53   Log-Likelihood:                -709.77\n",
      "No. Observations:                 729   AIC:                             1438.\n",
      "Df Residuals:                     720   BIC:                             1479.\n",
      "Df Model:                           8                                         \n",
      "Covariance Type:            nonrobust                                         \n",
      "====================================================================================\n",
      "                       coef    std err          t      P>|t|      [0.025      0.975]\n",
      "------------------------------------------------------------------------------------\n",
      "Intercept            5.9304      2.983      1.988      0.047       0.073      11.788\n",
      "glasses[T.SMI]       0.3667      0.058      6.271      0.000       0.252       0.482\n",
      "glasses[T.Tobii]     0.5820      0.058      9.953      0.000       0.467       0.697\n",
      "dist[T.2M]           0.1862      0.058      3.184      0.002       0.071       0.301\n",
      "dist[T.3M]           0.0337      0.058      0.577      0.564      -0.081       0.149\n",
      "offset[T.10Ldeg]     0.0565      0.058      0.966      0.334      -0.058       0.171\n",
      "offset[T.10Rdeg]     0.2278      0.058      3.896      0.000       0.113       0.343\n",
      "subj                -0.0503      0.029     -1.721      0.086      -0.108       0.007\n",
      "ptIdx               -0.0093      0.003     -3.249      0.001      -0.015      -0.004\n",
      "==============================================================================\n",
      "Omnibus:                      155.431   Durbin-Watson:                   0.739\n",
      "Prob(Omnibus):                  0.000   Jarque-Bera (JB):              331.510\n",
      "Skew:                           1.169   Prob(JB):                     1.03e-72\n",
      "Kurtosis:                       5.334   Cond. No.                     1.29e+04\n",
      "==============================================================================\n",
      "\n",
      "Warnings:\n",
      "[1] Standard Errors assume that the covariance matrix of the errors is correctly specified.\n",
      "[2] The condition number is large, 1.29e+04. This might indicate that there are\n",
      "strong multicollinearity or other numerical problems.\n"
     ]
    }
   ],
   "source": [
    "fullModel = ols(\"centDist ~ subj + glasses + dist + offset + ptIdx\", df).fit()\n",
    "print(fullModel.summary())"
   ]
  },
  {
   "cell_type": "markdown",
   "metadata": {
    "deletable": true,
    "editable": true
   },
   "source": [
    "## Look at 0deg offest condition\n",
    "\n",
    "Test whether calibration accuracy/precision varies across glasses at the 0deg offset condition"
   ]
  },
  {
   "cell_type": "code",
   "execution_count": 24,
   "metadata": {
    "collapsed": false,
    "deletable": true,
    "editable": true
   },
   "outputs": [
    {
     "data": {
      "text/plain": [
       "(243, 12)"
      ]
     },
     "execution_count": 24,
     "metadata": {},
     "output_type": "execute_result"
    }
   ],
   "source": [
    "df_0deg = df[df.offset == '0deg']\n",
    "df_0deg.shape"
   ]
  },
  {
   "cell_type": "markdown",
   "metadata": {
    "deletable": true,
    "editable": true
   },
   "source": [
    "#### center point (3,3) only \n",
    "First, look at calibration accuracy at 0deg offset based only on the center point in the calibration grid"
   ]
  },
  {
   "cell_type": "code",
   "execution_count": 26,
   "metadata": {
    "collapsed": false,
    "deletable": true,
    "editable": true
   },
   "outputs": [
    {
     "data": {
      "text/plain": [
       "(27, 12)"
      ]
     },
     "execution_count": 26,
     "metadata": {},
     "output_type": "execute_result"
    }
   ],
   "source": [
    "df_0deg_center = df_0deg[df_0deg.ptIdx == 13]\n",
    "df_0deg_center.shape"
   ]
  },
  {
   "cell_type": "code",
   "execution_count": 35,
   "metadata": {
    "collapsed": false,
    "deletable": true,
    "editable": true
   },
   "outputs": [
    {
     "data": {
      "text/plain": [
       "<matplotlib.axes._subplots.AxesSubplot at 0x10d7ec128>"
      ]
     },
     "execution_count": 35,
     "metadata": {},
     "output_type": "execute_result"
    },
    {
     "data": {
      "image/png": "[encoded data removed]",
      "text/plain": [
       "<matplotlib.figure.Figure at 0x10d7f6828>"
      ]
     },
     "metadata": {},
     "output_type": "display_data"
    }
   ],
   "source": [
    "sns.boxplot(x=\"dist\", y=\"centDist\", hue=\"glasses\", data=df, palette=\"PRGn\")"
   ]
  },
  {
   "cell_type": "code",
   "execution_count": 32,
   "metadata": {
    "collapsed": false,
    "deletable": true,
    "editable": true
   },
   "outputs": [
    {
     "data": {
      "text/html": [
       "<div>\n",
       "<table border=\"1\" class=\"dataframe\">\n",
       "  <thead>\n",
       "    <tr style=\"text-align: right;\">\n",
       "      <th></th>\n",
       "      <th>trial</th>\n",
       "      <th>ptIdx</th>\n",
       "      <th>percentValid</th>\n",
       "      <th>centX</th>\n",
       "      <th>centY</th>\n",
       "      <th>centDist</th>\n",
       "      <th>centAngle</th>\n",
       "      <th>RMS</th>\n",
       "      <th>subj</th>\n",
       "      <th>glasses</th>\n",
       "      <th>dist</th>\n",
       "      <th>offset</th>\n",
       "    </tr>\n",
       "  </thead>\n",
       "  <tbody>\n",
       "    <tr>\n",
       "      <th>0</th>\n",
       "      <td>1</td>\n",
       "      <td>15</td>\n",
       "      <td>1.983</td>\n",
       "      <td>872.513</td>\n",
       "      <td>456.424</td>\n",
       "      <td>0.683</td>\n",
       "      <td>408.041</td>\n",
       "      <td>0.113</td>\n",
       "      <td>101</td>\n",
       "      <td>Pupil Labs</td>\n",
       "      <td>1M</td>\n",
       "      <td>0deg</td>\n",
       "    </tr>\n",
       "    <tr>\n",
       "      <th>1</th>\n",
       "      <td>2</td>\n",
       "      <td>21</td>\n",
       "      <td>1.992</td>\n",
       "      <td>178.414</td>\n",
       "      <td>736.665</td>\n",
       "      <td>1.135</td>\n",
       "      <td>443.071</td>\n",
       "      <td>0.074</td>\n",
       "      <td>101</td>\n",
       "      <td>Pupil Labs</td>\n",
       "      <td>1M</td>\n",
       "      <td>0deg</td>\n",
       "    </tr>\n",
       "    <tr>\n",
       "      <th>2</th>\n",
       "      <td>3</td>\n",
       "      <td>3</td>\n",
       "      <td>1.983</td>\n",
       "      <td>529.483</td>\n",
       "      <td>128.252</td>\n",
       "      <td>0.564</td>\n",
       "      <td>412.494</td>\n",
       "      <td>0.114</td>\n",
       "      <td>101</td>\n",
       "      <td>Pupil Labs</td>\n",
       "      <td>1M</td>\n",
       "      <td>0deg</td>\n",
       "    </tr>\n",
       "    <tr>\n",
       "      <th>3</th>\n",
       "      <td>4</td>\n",
       "      <td>13</td>\n",
       "      <td>1.975</td>\n",
       "      <td>537.017</td>\n",
       "      <td>401.570</td>\n",
       "      <td>1.226</td>\n",
       "      <td>429.390</td>\n",
       "      <td>0.123</td>\n",
       "      <td>101</td>\n",
       "      <td>Pupil Labs</td>\n",
       "      <td>1M</td>\n",
       "      <td>0deg</td>\n",
       "    </tr>\n",
       "    <tr>\n",
       "      <th>4</th>\n",
       "      <td>5</td>\n",
       "      <td>25</td>\n",
       "      <td>1.983</td>\n",
       "      <td>862.071</td>\n",
       "      <td>709.513</td>\n",
       "      <td>1.481</td>\n",
       "      <td>436.933</td>\n",
       "      <td>0.087</td>\n",
       "      <td>101</td>\n",
       "      <td>Pupil Labs</td>\n",
       "      <td>1M</td>\n",
       "      <td>0deg</td>\n",
       "    </tr>\n",
       "  </tbody>\n",
       "</table>\n",
       "</div>"
      ],
      "text/plain": [
       "   trial  ptIdx  percentValid    centX    centY  centDist  centAngle    RMS  \\\n",
       "0      1     15         1.983  872.513  456.424     0.683    408.041  0.113   \n",
       "1      2     21         1.992  178.414  736.665     1.135    443.071  0.074   \n",
       "2      3      3         1.983  529.483  128.252     0.564    412.494  0.114   \n",
       "3      4     13         1.975  537.017  401.570     1.226    429.390  0.123   \n",
       "4      5     25         1.983  862.071  709.513     1.481    436.933  0.087   \n",
       "\n",
       "   subj     glasses dist offset  \n",
       "0   101  Pupil Labs   1M   0deg  \n",
       "1   101  Pupil Labs   1M   0deg  \n",
       "2   101  Pupil Labs   1M   0deg  \n",
       "3   101  Pupil Labs   1M   0deg  \n",
       "4   101  Pupil Labs   1M   0deg  "
      ]
     },
     "execution_count": 32,
     "metadata": {},
     "output_type": "execute_result"
    }
   ],
   "source": [
    "df_0deg.head()"
   ]
  }
 ],
 "metadata": {
  "kernelspec": {
   "display_name": "Python 3",
   "language": "python",
   "name": "python3"
  },
  "language_info": {
   "codemirror_mode": {
    "name": "ipython",
    "version": 3
   },
   "file_extension": ".py",
   "mimetype": "text/x-python",
   "name": "python",
   "nbconvert_exporter": "python",
   "pygments_lexer": "ipython3",
   "version": "3.6.0"
  }
 },
 "nbformat": 4,
 "nbformat_minor": 2
}
