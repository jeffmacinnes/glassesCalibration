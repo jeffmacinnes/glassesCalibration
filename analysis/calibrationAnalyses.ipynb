{
 "cells": [
  {
   "cell_type": "code",
   "execution_count": 1,
   "metadata": {
    "collapsed": true,
    "deletable": true,
    "editable": true
   },
   "outputs": [],
   "source": [
    "import os\n",
    "from os.path import join\n",
    "import numpy as np\n",
    "import pandas as pd\n",
    "import seaborn as sns"
   ]
  },
  {
   "cell_type": "code",
   "execution_count": 2,
   "metadata": {
    "collapsed": false,
    "deletable": true,
    "editable": true
   },
   "outputs": [
    {
     "name": "stdout",
     "output_type": "stream",
     "text": [
      "Populating the interactive namespace from numpy and matplotlib\n"
     ]
    }
   ],
   "source": [
    "%pylab inline"
   ]
  },
  {
   "cell_type": "code",
   "execution_count": 3,
   "metadata": {
    "collapsed": true,
    "deletable": true,
    "editable": true
   },
   "outputs": [],
   "source": [
    "sns.set(style='ticks')"
   ]
  },
  {
   "cell_type": "markdown",
   "metadata": {
    "deletable": true,
    "editable": true
   },
   "source": [
    "# Glasses Calibration Analyses\n",
    "A set of analyses comparing calibration performance across 3 different models of wearable eye-trackers: Tobii Glasses 2, SMI, and Pupil Labs. Each tracker was tested on 3 different subjects. Each subject performed calibration tasks at 3 different distances (1M, 2M, and 3M). At each distance, calibration was tested at 3 different conditons of visual angle offset (-10deg, 0deg, +10deg). "
   ]
  },
  {
   "cell_type": "markdown",
   "metadata": {
    "deletable": true,
    "editable": true
   },
   "source": [
    "### Load the combined calibration summaries file\n",
    "The calibration performance was summarized for each unique subject/glasses/distance/offset condition. These summarized files were combined into a single dataframe "
   ]
  },
  {
   "cell_type": "code",
   "execution_count": 4,
   "metadata": {
    "collapsed": false,
    "deletable": true,
    "editable": true
   },
   "outputs": [
    {
     "data": {
      "text/html": [
       "<div>\n",
       "<table border=\"1\" class=\"dataframe\">\n",
       "  <thead>\n",
       "    <tr style=\"text-align: right;\">\n",
       "      <th></th>\n",
       "      <th>trial</th>\n",
       "      <th>ptIdx</th>\n",
       "      <th>percentValid</th>\n",
       "      <th>centX</th>\n",
       "      <th>centY</th>\n",
       "      <th>centDist</th>\n",
       "      <th>centAngle</th>\n",
       "      <th>RMS</th>\n",
       "      <th>subj</th>\n",
       "      <th>glasses</th>\n",
       "      <th>dist</th>\n",
       "      <th>offset</th>\n",
       "      <th>condition</th>\n",
       "    </tr>\n",
       "  </thead>\n",
       "  <tbody>\n",
       "    <tr>\n",
       "      <th>0</th>\n",
       "      <td>1</td>\n",
       "      <td>15</td>\n",
       "      <td>0.992</td>\n",
       "      <td>872.513</td>\n",
       "      <td>456.424</td>\n",
       "      <td>0.683</td>\n",
       "      <td>48.041</td>\n",
       "      <td>0.113</td>\n",
       "      <td>101</td>\n",
       "      <td>Pupil Labs</td>\n",
       "      <td>1M</td>\n",
       "      <td>0deg</td>\n",
       "      <td>101_PupilLabs_1M_0deg</td>\n",
       "    </tr>\n",
       "    <tr>\n",
       "      <th>1</th>\n",
       "      <td>2</td>\n",
       "      <td>21</td>\n",
       "      <td>0.996</td>\n",
       "      <td>178.414</td>\n",
       "      <td>736.665</td>\n",
       "      <td>1.135</td>\n",
       "      <td>83.071</td>\n",
       "      <td>0.074</td>\n",
       "      <td>101</td>\n",
       "      <td>Pupil Labs</td>\n",
       "      <td>1M</td>\n",
       "      <td>0deg</td>\n",
       "      <td>101_PupilLabs_1M_0deg</td>\n",
       "    </tr>\n",
       "    <tr>\n",
       "      <th>2</th>\n",
       "      <td>3</td>\n",
       "      <td>3</td>\n",
       "      <td>0.992</td>\n",
       "      <td>529.483</td>\n",
       "      <td>128.252</td>\n",
       "      <td>0.564</td>\n",
       "      <td>52.494</td>\n",
       "      <td>0.114</td>\n",
       "      <td>101</td>\n",
       "      <td>Pupil Labs</td>\n",
       "      <td>1M</td>\n",
       "      <td>0deg</td>\n",
       "      <td>101_PupilLabs_1M_0deg</td>\n",
       "    </tr>\n",
       "    <tr>\n",
       "      <th>3</th>\n",
       "      <td>4</td>\n",
       "      <td>13</td>\n",
       "      <td>0.988</td>\n",
       "      <td>537.017</td>\n",
       "      <td>401.570</td>\n",
       "      <td>1.226</td>\n",
       "      <td>69.390</td>\n",
       "      <td>0.123</td>\n",
       "      <td>101</td>\n",
       "      <td>Pupil Labs</td>\n",
       "      <td>1M</td>\n",
       "      <td>0deg</td>\n",
       "      <td>101_PupilLabs_1M_0deg</td>\n",
       "    </tr>\n",
       "    <tr>\n",
       "      <th>4</th>\n",
       "      <td>5</td>\n",
       "      <td>25</td>\n",
       "      <td>0.992</td>\n",
       "      <td>862.071</td>\n",
       "      <td>709.513</td>\n",
       "      <td>1.481</td>\n",
       "      <td>76.933</td>\n",
       "      <td>0.087</td>\n",
       "      <td>101</td>\n",
       "      <td>Pupil Labs</td>\n",
       "      <td>1M</td>\n",
       "      <td>0deg</td>\n",
       "      <td>101_PupilLabs_1M_0deg</td>\n",
       "    </tr>\n",
       "  </tbody>\n",
       "</table>\n",
       "</div>"
      ],
      "text/plain": [
       "   trial  ptIdx  percentValid    centX    centY  centDist  centAngle    RMS  \\\n",
       "0      1     15         0.992  872.513  456.424     0.683     48.041  0.113   \n",
       "1      2     21         0.996  178.414  736.665     1.135     83.071  0.074   \n",
       "2      3      3         0.992  529.483  128.252     0.564     52.494  0.114   \n",
       "3      4     13         0.988  537.017  401.570     1.226     69.390  0.123   \n",
       "4      5     25         0.992  862.071  709.513     1.481     76.933  0.087   \n",
       "\n",
       "   subj     glasses dist offset              condition  \n",
       "0   101  Pupil Labs   1M   0deg  101_PupilLabs_1M_0deg  \n",
       "1   101  Pupil Labs   1M   0deg  101_PupilLabs_1M_0deg  \n",
       "2   101  Pupil Labs   1M   0deg  101_PupilLabs_1M_0deg  \n",
       "3   101  Pupil Labs   1M   0deg  101_PupilLabs_1M_0deg  \n",
       "4   101  Pupil Labs   1M   0deg  101_PupilLabs_1M_0deg  "
      ]
     },
     "execution_count": 4,
     "metadata": {},
     "output_type": "execute_result"
    }
   ],
   "source": [
    "df = pd.read_table('./allSubjs_calibrationSummary.tsv', sep='\\t')\n",
    "df.head()"
   ]
  },
  {
   "cell_type": "markdown",
   "metadata": {
    "deletable": true,
    "editable": true
   },
   "source": [
    "### average each condition across all calibration points\n",
    "The dataset above has summarized each individual calibration pt (9 total) for each unique condition. Before any other analyses, average the calibration performance across these 9pts for each condition"
   ]
  },
  {
   "cell_type": "code",
   "execution_count": 99,
   "metadata": {
    "collapsed": false,
    "deletable": true,
    "editable": true
   },
   "outputs": [
    {
     "data": {
      "text/html": [
       "<div>\n",
       "<table border=\"1\" class=\"dataframe\">\n",
       "  <thead>\n",
       "    <tr style=\"text-align: right;\">\n",
       "      <th></th>\n",
       "      <th>condition</th>\n",
       "      <th>trial</th>\n",
       "      <th>ptIdx</th>\n",
       "      <th>percentValid</th>\n",
       "      <th>centX</th>\n",
       "      <th>centY</th>\n",
       "      <th>centDist</th>\n",
       "      <th>centAngle</th>\n",
       "      <th>RMS</th>\n",
       "      <th>subj</th>\n",
       "    </tr>\n",
       "  </thead>\n",
       "  <tbody>\n",
       "    <tr>\n",
       "      <th>0</th>\n",
       "      <td>101_PupilLabs_1M_0deg</td>\n",
       "      <td>5</td>\n",
       "      <td>13</td>\n",
       "      <td>0.992444</td>\n",
       "      <td>520.207333</td>\n",
       "      <td>412.236778</td>\n",
       "      <td>1.085667</td>\n",
       "      <td>75.041556</td>\n",
       "      <td>0.107333</td>\n",
       "      <td>101</td>\n",
       "    </tr>\n",
       "    <tr>\n",
       "      <th>1</th>\n",
       "      <td>101_PupilLabs_1M_10Ldeg</td>\n",
       "      <td>5</td>\n",
       "      <td>13</td>\n",
       "      <td>0.992000</td>\n",
       "      <td>461.427000</td>\n",
       "      <td>433.862778</td>\n",
       "      <td>1.266556</td>\n",
       "      <td>121.677222</td>\n",
       "      <td>0.159333</td>\n",
       "      <td>101</td>\n",
       "    </tr>\n",
       "    <tr>\n",
       "      <th>2</th>\n",
       "      <td>101_PupilLabs_1M_10Rdeg</td>\n",
       "      <td>5</td>\n",
       "      <td>13</td>\n",
       "      <td>0.948333</td>\n",
       "      <td>604.473444</td>\n",
       "      <td>413.189667</td>\n",
       "      <td>1.649778</td>\n",
       "      <td>74.174667</td>\n",
       "      <td>0.129778</td>\n",
       "      <td>101</td>\n",
       "    </tr>\n",
       "    <tr>\n",
       "      <th>3</th>\n",
       "      <td>101_PupilLabs_2M_0deg</td>\n",
       "      <td>5</td>\n",
       "      <td>13</td>\n",
       "      <td>0.992444</td>\n",
       "      <td>338.907444</td>\n",
       "      <td>381.451000</td>\n",
       "      <td>1.178778</td>\n",
       "      <td>143.402444</td>\n",
       "      <td>0.080111</td>\n",
       "      <td>101</td>\n",
       "    </tr>\n",
       "    <tr>\n",
       "      <th>4</th>\n",
       "      <td>101_PupilLabs_2M_10Ldeg</td>\n",
       "      <td>5</td>\n",
       "      <td>13</td>\n",
       "      <td>0.990111</td>\n",
       "      <td>188.118556</td>\n",
       "      <td>499.280444</td>\n",
       "      <td>1.841111</td>\n",
       "      <td>179.786333</td>\n",
       "      <td>0.102667</td>\n",
       "      <td>101</td>\n",
       "    </tr>\n",
       "  </tbody>\n",
       "</table>\n",
       "</div>"
      ],
      "text/plain": [
       "                 condition  trial  ptIdx  percentValid       centX  \\\n",
       "0    101_PupilLabs_1M_0deg      5     13      0.992444  520.207333   \n",
       "1  101_PupilLabs_1M_10Ldeg      5     13      0.992000  461.427000   \n",
       "2  101_PupilLabs_1M_10Rdeg      5     13      0.948333  604.473444   \n",
       "3    101_PupilLabs_2M_0deg      5     13      0.992444  338.907444   \n",
       "4  101_PupilLabs_2M_10Ldeg      5     13      0.990111  188.118556   \n",
       "\n",
       "        centY  centDist   centAngle       RMS  subj  \n",
       "0  412.236778  1.085667   75.041556  0.107333   101  \n",
       "1  433.862778  1.266556  121.677222  0.159333   101  \n",
       "2  413.189667  1.649778   74.174667  0.129778   101  \n",
       "3  381.451000  1.178778  143.402444  0.080111   101  \n",
       "4  499.280444  1.841111  179.786333  0.102667   101  "
      ]
     },
     "execution_count": 99,
     "metadata": {},
     "output_type": "execute_result"
    }
   ],
   "source": [
    "df_cond = df.groupby('condition').mean()\n",
    "df_cond.reset_index(inplace=True)\n",
    "df_cond.head()"
   ]
  },
  {
   "cell_type": "code",
   "execution_count": 100,
   "metadata": {
    "collapsed": false,
    "deletable": true,
    "editable": true
   },
   "outputs": [],
   "source": [
    "#split the condition column into separate columns for subj, glasses, dist, and offset\n",
    "newCols = df_cond['condition'].apply(lambda x: pd.Series(str(x).split('_')))\n",
    "newCols.rename(columns={0:'subj', 1:'glasses', 2:'dist', 3: 'offset'}, inplace=True)\n",
    "\n",
    "# drop unecessary or duplicate columns before combining new columns with df_cond\n",
    "df_cond.drop(['subj', 'trial', 'ptIdx', 'centX', 'centY'], axis=1, inplace=True)\n",
    "df_cond = pd.concat([newCols, df_cond], axis=1)    "
   ]
  },
  {
   "cell_type": "code",
   "execution_count": 101,
   "metadata": {
    "collapsed": false
   },
   "outputs": [
    {
     "data": {
      "text/html": [
       "<div>\n",
       "<table border=\"1\" class=\"dataframe\">\n",
       "  <thead>\n",
       "    <tr style=\"text-align: right;\">\n",
       "      <th></th>\n",
       "      <th>subj</th>\n",
       "      <th>glasses</th>\n",
       "      <th>dist</th>\n",
       "      <th>offset</th>\n",
       "      <th>condition</th>\n",
       "      <th>percentValid</th>\n",
       "      <th>centDist</th>\n",
       "      <th>centAngle</th>\n",
       "      <th>RMS</th>\n",
       "    </tr>\n",
       "  </thead>\n",
       "  <tbody>\n",
       "    <tr>\n",
       "      <th>0</th>\n",
       "      <td>101</td>\n",
       "      <td>PupilLabs</td>\n",
       "      <td>1M</td>\n",
       "      <td>0deg</td>\n",
       "      <td>101_PupilLabs_1M_0deg</td>\n",
       "      <td>0.992444</td>\n",
       "      <td>1.085667</td>\n",
       "      <td>75.041556</td>\n",
       "      <td>0.107333</td>\n",
       "    </tr>\n",
       "    <tr>\n",
       "      <th>1</th>\n",
       "      <td>101</td>\n",
       "      <td>PupilLabs</td>\n",
       "      <td>1M</td>\n",
       "      <td>10Ldeg</td>\n",
       "      <td>101_PupilLabs_1M_10Ldeg</td>\n",
       "      <td>0.992000</td>\n",
       "      <td>1.266556</td>\n",
       "      <td>121.677222</td>\n",
       "      <td>0.159333</td>\n",
       "    </tr>\n",
       "    <tr>\n",
       "      <th>2</th>\n",
       "      <td>101</td>\n",
       "      <td>PupilLabs</td>\n",
       "      <td>1M</td>\n",
       "      <td>10Rdeg</td>\n",
       "      <td>101_PupilLabs_1M_10Rdeg</td>\n",
       "      <td>0.948333</td>\n",
       "      <td>1.649778</td>\n",
       "      <td>74.174667</td>\n",
       "      <td>0.129778</td>\n",
       "    </tr>\n",
       "    <tr>\n",
       "      <th>3</th>\n",
       "      <td>101</td>\n",
       "      <td>PupilLabs</td>\n",
       "      <td>2M</td>\n",
       "      <td>0deg</td>\n",
       "      <td>101_PupilLabs_2M_0deg</td>\n",
       "      <td>0.992444</td>\n",
       "      <td>1.178778</td>\n",
       "      <td>143.402444</td>\n",
       "      <td>0.080111</td>\n",
       "    </tr>\n",
       "    <tr>\n",
       "      <th>4</th>\n",
       "      <td>101</td>\n",
       "      <td>PupilLabs</td>\n",
       "      <td>2M</td>\n",
       "      <td>10Ldeg</td>\n",
       "      <td>101_PupilLabs_2M_10Ldeg</td>\n",
       "      <td>0.990111</td>\n",
       "      <td>1.841111</td>\n",
       "      <td>179.786333</td>\n",
       "      <td>0.102667</td>\n",
       "    </tr>\n",
       "  </tbody>\n",
       "</table>\n",
       "</div>"
      ],
      "text/plain": [
       "  subj    glasses dist  offset                condition  percentValid  \\\n",
       "0  101  PupilLabs   1M    0deg    101_PupilLabs_1M_0deg      0.992444   \n",
       "1  101  PupilLabs   1M  10Ldeg  101_PupilLabs_1M_10Ldeg      0.992000   \n",
       "2  101  PupilLabs   1M  10Rdeg  101_PupilLabs_1M_10Rdeg      0.948333   \n",
       "3  101  PupilLabs   2M    0deg    101_PupilLabs_2M_0deg      0.992444   \n",
       "4  101  PupilLabs   2M  10Ldeg  101_PupilLabs_2M_10Ldeg      0.990111   \n",
       "\n",
       "   centDist   centAngle       RMS  \n",
       "0  1.085667   75.041556  0.107333  \n",
       "1  1.266556  121.677222  0.159333  \n",
       "2  1.649778   74.174667  0.129778  \n",
       "3  1.178778  143.402444  0.080111  \n",
       "4  1.841111  179.786333  0.102667  "
      ]
     },
     "execution_count": 101,
     "metadata": {},
     "output_type": "execute_result"
    }
   ],
   "source": [
    "df_cond.head()"
   ]
  },
  {
   "cell_type": "markdown",
   "metadata": {
    "collapsed": false,
    "deletable": true,
    "editable": true
   },
   "source": [
    "# Overall accuracy and precision by glasses\n",
    "Collapsing across distance and offest"
   ]
  },
  {
   "cell_type": "code",
   "execution_count": 102,
   "metadata": {
    "collapsed": false
   },
   "outputs": [],
   "source": [
    "df_byGlasses = df_cond.groupby(['subj', 'glasses']).mean()"
   ]
  },
  {
   "cell_type": "code",
   "execution_count": 104,
   "metadata": {
    "collapsed": false
   },
   "outputs": [
    {
     "data": {
      "text/html": [
       "<div>\n",
       "<table border=\"1\" class=\"dataframe\">\n",
       "  <thead>\n",
       "    <tr style=\"text-align: right;\">\n",
       "      <th></th>\n",
       "      <th></th>\n",
       "      <th>percentValid</th>\n",
       "      <th>centDist</th>\n",
       "      <th>centAngle</th>\n",
       "      <th>RMS</th>\n",
       "    </tr>\n",
       "    <tr>\n",
       "      <th>subj</th>\n",
       "      <th>glasses</th>\n",
       "      <th></th>\n",
       "      <th></th>\n",
       "      <th></th>\n",
       "      <th></th>\n",
       "    </tr>\n",
       "  </thead>\n",
       "  <tbody>\n",
       "    <tr>\n",
       "      <th rowspan=\"3\" valign=\"top\">101</th>\n",
       "      <th>PupilLabs</th>\n",
       "      <td>0.980802</td>\n",
       "      <td>1.096914</td>\n",
       "      <td>124.869284</td>\n",
       "      <td>0.107173</td>\n",
       "    </tr>\n",
       "    <tr>\n",
       "      <th>SMI</th>\n",
       "      <td>0.994494</td>\n",
       "      <td>1.136012</td>\n",
       "      <td>251.988790</td>\n",
       "      <td>0.149358</td>\n",
       "    </tr>\n",
       "    <tr>\n",
       "      <th>Tobii</th>\n",
       "      <td>0.994938</td>\n",
       "      <td>1.511951</td>\n",
       "      <td>264.057926</td>\n",
       "      <td>0.292247</td>\n",
       "    </tr>\n",
       "    <tr>\n",
       "      <th rowspan=\"3\" valign=\"top\">102</th>\n",
       "      <th>PupilLabs</th>\n",
       "      <td>0.952049</td>\n",
       "      <td>0.791469</td>\n",
       "      <td>160.897210</td>\n",
       "      <td>0.238877</td>\n",
       "    </tr>\n",
       "    <tr>\n",
       "      <th>SMI</th>\n",
       "      <td>0.977000</td>\n",
       "      <td>1.087000</td>\n",
       "      <td>225.563963</td>\n",
       "      <td>0.274247</td>\n",
       "    </tr>\n",
       "    <tr>\n",
       "      <th>Tobii</th>\n",
       "      <td>0.960617</td>\n",
       "      <td>1.370321</td>\n",
       "      <td>252.716679</td>\n",
       "      <td>0.418210</td>\n",
       "    </tr>\n",
       "    <tr>\n",
       "      <th rowspan=\"3\" valign=\"top\">103</th>\n",
       "      <th>PupilLabs</th>\n",
       "      <td>0.980568</td>\n",
       "      <td>0.641716</td>\n",
       "      <td>174.899741</td>\n",
       "      <td>0.126037</td>\n",
       "    </tr>\n",
       "    <tr>\n",
       "      <th>SMI</th>\n",
       "      <td>0.989346</td>\n",
       "      <td>1.407198</td>\n",
       "      <td>296.890840</td>\n",
       "      <td>0.140235</td>\n",
       "    </tr>\n",
       "    <tr>\n",
       "      <th>Tobii</th>\n",
       "      <td>0.991358</td>\n",
       "      <td>1.393963</td>\n",
       "      <td>263.419321</td>\n",
       "      <td>0.299951</td>\n",
       "    </tr>\n",
       "  </tbody>\n",
       "</table>\n",
       "</div>"
      ],
      "text/plain": [
       "                percentValid  centDist   centAngle       RMS\n",
       "subj glasses                                                \n",
       "101  PupilLabs      0.980802  1.096914  124.869284  0.107173\n",
       "     SMI            0.994494  1.136012  251.988790  0.149358\n",
       "     Tobii          0.994938  1.511951  264.057926  0.292247\n",
       "102  PupilLabs      0.952049  0.791469  160.897210  0.238877\n",
       "     SMI            0.977000  1.087000  225.563963  0.274247\n",
       "     Tobii          0.960617  1.370321  252.716679  0.418210\n",
       "103  PupilLabs      0.980568  0.641716  174.899741  0.126037\n",
       "     SMI            0.989346  1.407198  296.890840  0.140235\n",
       "     Tobii          0.991358  1.393963  263.419321  0.299951"
      ]
     },
     "execution_count": 104,
     "metadata": {},
     "output_type": "execute_result"
    }
   ],
   "source": [
    "df_byGlasses"
   ]
  },
  {
   "cell_type": "code",
   "execution_count": 105,
   "metadata": {
    "collapsed": false
   },
   "outputs": [
    {
     "data": {
      "image/png": "[encoded data removed]",
      "text/plain": [
       "<matplotlib.figure.Figure at 0x118c740f0>"
      ]
     },
     "metadata": {},
     "output_type": "display_data"
    }
   ],
   "source": [
    "# plot accuracy & RMS\n",
    "fig, ax = plt.subplots(1,2)\n",
    "\n",
    "sns.boxplot(x=\"subj\", y=\"centDist\", hue='glasses', ax=ax[0], data=df_cond, palette=\"PRGn\")\n",
    "sns.despine(offset=5, trim=False)\n",
    "ax[0].set_title('Accuracy')\n",
    "\n",
    "sns.boxplot(x=\"subj\", y=\"RMS\", hue='glasses', ax=ax[1], data=df_cond, palette=\"PRGn\")\n",
    "sns.despine(offset=5, trim=False)\n",
    "ax[1].set_title('RMS')\n",
    "\n",
    "plt.tight_layout()"
   ]
  },
  {
   "cell_type": "code",
   "execution_count": 106,
   "metadata": {
    "collapsed": false
   },
   "outputs": [],
   "source": [
    "df_byGlasses.sort_index(level=1, inplace=True)"
   ]
  },
  {
   "cell_type": "code",
   "execution_count": 107,
   "metadata": {
    "collapsed": false
   },
   "outputs": [],
   "source": [
    "df_byGlasses.reset_index(inplace=True)"
   ]
  },
  {
   "cell_type": "code",
   "execution_count": 108,
   "metadata": {
    "collapsed": false
   },
   "outputs": [
    {
     "data": {
      "text/html": [
       "<div>\n",
       "<table border=\"1\" class=\"dataframe\">\n",
       "  <thead>\n",
       "    <tr style=\"text-align: right;\">\n",
       "      <th></th>\n",
       "      <th>subj</th>\n",
       "      <th>glasses</th>\n",
       "      <th>percentValid</th>\n",
       "      <th>centDist</th>\n",
       "      <th>centAngle</th>\n",
       "      <th>RMS</th>\n",
       "    </tr>\n",
       "  </thead>\n",
       "  <tbody>\n",
       "    <tr>\n",
       "      <th>0</th>\n",
       "      <td>101</td>\n",
       "      <td>PupilLabs</td>\n",
       "      <td>0.980802</td>\n",
       "      <td>1.096914</td>\n",
       "      <td>124.869284</td>\n",
       "      <td>0.107173</td>\n",
       "    </tr>\n",
       "    <tr>\n",
       "      <th>1</th>\n",
       "      <td>102</td>\n",
       "      <td>PupilLabs</td>\n",
       "      <td>0.952049</td>\n",
       "      <td>0.791469</td>\n",
       "      <td>160.897210</td>\n",
       "      <td>0.238877</td>\n",
       "    </tr>\n",
       "    <tr>\n",
       "      <th>2</th>\n",
       "      <td>103</td>\n",
       "      <td>PupilLabs</td>\n",
       "      <td>0.980568</td>\n",
       "      <td>0.641716</td>\n",
       "      <td>174.899741</td>\n",
       "      <td>0.126037</td>\n",
       "    </tr>\n",
       "    <tr>\n",
       "      <th>3</th>\n",
       "      <td>101</td>\n",
       "      <td>SMI</td>\n",
       "      <td>0.994494</td>\n",
       "      <td>1.136012</td>\n",
       "      <td>251.988790</td>\n",
       "      <td>0.149358</td>\n",
       "    </tr>\n",
       "    <tr>\n",
       "      <th>4</th>\n",
       "      <td>102</td>\n",
       "      <td>SMI</td>\n",
       "      <td>0.977000</td>\n",
       "      <td>1.087000</td>\n",
       "      <td>225.563963</td>\n",
       "      <td>0.274247</td>\n",
       "    </tr>\n",
       "    <tr>\n",
       "      <th>5</th>\n",
       "      <td>103</td>\n",
       "      <td>SMI</td>\n",
       "      <td>0.989346</td>\n",
       "      <td>1.407198</td>\n",
       "      <td>296.890840</td>\n",
       "      <td>0.140235</td>\n",
       "    </tr>\n",
       "    <tr>\n",
       "      <th>6</th>\n",
       "      <td>101</td>\n",
       "      <td>Tobii</td>\n",
       "      <td>0.994938</td>\n",
       "      <td>1.511951</td>\n",
       "      <td>264.057926</td>\n",
       "      <td>0.292247</td>\n",
       "    </tr>\n",
       "    <tr>\n",
       "      <th>7</th>\n",
       "      <td>102</td>\n",
       "      <td>Tobii</td>\n",
       "      <td>0.960617</td>\n",
       "      <td>1.370321</td>\n",
       "      <td>252.716679</td>\n",
       "      <td>0.418210</td>\n",
       "    </tr>\n",
       "    <tr>\n",
       "      <th>8</th>\n",
       "      <td>103</td>\n",
       "      <td>Tobii</td>\n",
       "      <td>0.991358</td>\n",
       "      <td>1.393963</td>\n",
       "      <td>263.419321</td>\n",
       "      <td>0.299951</td>\n",
       "    </tr>\n",
       "  </tbody>\n",
       "</table>\n",
       "</div>"
      ],
      "text/plain": [
       "  subj    glasses  percentValid  centDist   centAngle       RMS\n",
       "0  101  PupilLabs      0.980802  1.096914  124.869284  0.107173\n",
       "1  102  PupilLabs      0.952049  0.791469  160.897210  0.238877\n",
       "2  103  PupilLabs      0.980568  0.641716  174.899741  0.126037\n",
       "3  101        SMI      0.994494  1.136012  251.988790  0.149358\n",
       "4  102        SMI      0.977000  1.087000  225.563963  0.274247\n",
       "5  103        SMI      0.989346  1.407198  296.890840  0.140235\n",
       "6  101      Tobii      0.994938  1.511951  264.057926  0.292247\n",
       "7  102      Tobii      0.960617  1.370321  252.716679  0.418210\n",
       "8  103      Tobii      0.991358  1.393963  263.419321  0.299951"
      ]
     },
     "execution_count": 108,
     "metadata": {},
     "output_type": "execute_result"
    }
   ],
   "source": [
    "df_byGlasses"
   ]
  },
  {
   "cell_type": "code",
   "execution_count": 109,
   "metadata": {
    "collapsed": false
   },
   "outputs": [
    {
     "data": {
      "image/png": "[encoded data removed]",
      "text/plain": [
       "<matplotlib.figure.Figure at 0x118bc9860>"
      ]
     },
     "metadata": {},
     "output_type": "display_data"
    }
   ],
   "source": [
    "# plot accuracy & RMS\n",
    "fig, ax = plt.subplots(1,2)\n",
    "\n",
    "sns.boxplot(x=\"glasses\", y=\"centDist\", ax=ax[0], data=df_byGlasses, palette=\"PRGn\")\n",
    "sns.despine(offset=5, trim=False)\n",
    "ax[0].set_title('Accuracy')\n",
    "ax[0].set_ylim(0,1.6)\n",
    "\n",
    "sns.boxplot(x=\"glasses\", y=\"RMS\", ax=ax[1], data=df_byGlasses, palette=\"PRGn\")\n",
    "sns.despine(offset=5, trim=False)\n",
    "ax[1].set_title('RMS')\n",
    "ax[1].set_ylim(0,.5)\n",
    "\n",
    "plt.tight_layout()\n"
   ]
  },
  {
   "cell_type": "markdown",
   "metadata": {
    "deletable": true,
    "editable": true
   },
   "source": [
    "## Build a regression model to test influence of experimental vars\n",
    "Build a model to see if accuracy (centDist) is influenced by:\n",
    "\n",
    "* subj\n",
    "* glasses\n",
    "* dist\n",
    "* offset\n",
    "* ptIdx"
   ]
  },
  {
   "cell_type": "code",
   "execution_count": 8,
   "metadata": {
    "collapsed": false,
    "deletable": true,
    "editable": true
   },
   "outputs": [],
   "source": [
    "from statsmodels.formula.api import ols"
   ]
  },
  {
   "cell_type": "code",
   "execution_count": 10,
   "metadata": {
    "collapsed": false,
    "deletable": true,
    "editable": true
   },
   "outputs": [
    {
     "name": "stdout",
     "output_type": "stream",
     "text": [
      "                            OLS Regression Results                            \n",
      "==============================================================================\n",
      "Dep. Variable:               centDist   R-squared:                       0.165\n",
      "Model:                            OLS   Adj. R-squared:                  0.156\n",
      "Method:                 Least Squares   F-statistic:                     17.85\n",
      "Date:                Tue, 30 May 2017   Prob (F-statistic):           1.94e-24\n",
      "Time:                        14:38:53   Log-Likelihood:                -709.77\n",
      "No. Observations:                 729   AIC:                             1438.\n",
      "Df Residuals:                     720   BIC:                             1479.\n",
      "Df Model:                           8                                         \n",
      "Covariance Type:            nonrobust                                         \n",
      "====================================================================================\n",
      "                       coef    std err          t      P>|t|      [0.025      0.975]\n",
      "------------------------------------------------------------------------------------\n",
      "Intercept            5.9304      2.983      1.988      0.047       0.073      11.788\n",
      "glasses[T.SMI]       0.3667      0.058      6.271      0.000       0.252       0.482\n",
      "glasses[T.Tobii]     0.5820      0.058      9.953      0.000       0.467       0.697\n",
      "dist[T.2M]           0.1862      0.058      3.184      0.002       0.071       0.301\n",
      "dist[T.3M]           0.0337      0.058      0.577      0.564      -0.081       0.149\n",
      "offset[T.10Ldeg]     0.0565      0.058      0.966      0.334      -0.058       0.171\n",
      "offset[T.10Rdeg]     0.2278      0.058      3.896      0.000       0.113       0.343\n",
      "subj                -0.0503      0.029     -1.721      0.086      -0.108       0.007\n",
      "ptIdx               -0.0093      0.003     -3.249      0.001      -0.015      -0.004\n",
      "==============================================================================\n",
      "Omnibus:                      155.431   Durbin-Watson:                   0.739\n",
      "Prob(Omnibus):                  0.000   Jarque-Bera (JB):              331.510\n",
      "Skew:                           1.169   Prob(JB):                     1.03e-72\n",
      "Kurtosis:                       5.334   Cond. No.                     1.29e+04\n",
      "==============================================================================\n",
      "\n",
      "Warnings:\n",
      "[1] Standard Errors assume that the covariance matrix of the errors is correctly specified.\n",
      "[2] The condition number is large, 1.29e+04. This might indicate that there are\n",
      "strong multicollinearity or other numerical problems.\n"
     ]
    }
   ],
   "source": [
    "fullModel = ols(\"centDist ~ subj + glasses + dist + offset + ptIdx\", df).fit()\n",
    "print(fullModel.summary())"
   ]
  },
  {
   "cell_type": "markdown",
   "metadata": {
    "deletable": true,
    "editable": true
   },
   "source": [
    "## Look at 0deg offest condition\n",
    "\n",
    "Test whether calibration accuracy/precision varies across glasses at the 0deg offset condition"
   ]
  },
  {
   "cell_type": "code",
   "execution_count": 24,
   "metadata": {
    "collapsed": false,
    "deletable": true,
    "editable": true
   },
   "outputs": [
    {
     "data": {
      "text/plain": [
       "(243, 12)"
      ]
     },
     "execution_count": 24,
     "metadata": {},
     "output_type": "execute_result"
    }
   ],
   "source": [
    "df_0deg = df[df.offset == '0deg']\n",
    "df_0deg.shape"
   ]
  },
  {
   "cell_type": "markdown",
   "metadata": {
    "deletable": true,
    "editable": true
   },
   "source": [
    "#### center point (3,3) only \n",
    "First, look at calibration accuracy at 0deg offset based only on the center point in the calibration grid"
   ]
  },
  {
   "cell_type": "code",
   "execution_count": 26,
   "metadata": {
    "collapsed": false,
    "deletable": true,
    "editable": true
   },
   "outputs": [
    {
     "data": {
      "text/plain": [
       "(27, 12)"
      ]
     },
     "execution_count": 26,
     "metadata": {},
     "output_type": "execute_result"
    }
   ],
   "source": [
    "df_0deg_center = df_0deg[df_0deg.ptIdx == 13]\n",
    "df_0deg_center.shape"
   ]
  }
 ],
 "metadata": {
  "kernelspec": {
   "display_name": "Python 3",
   "language": "python",
   "name": "python3"
  },
  "language_info": {
   "codemirror_mode": {
    "name": "ipython",
    "version": 3
   },
   "file_extension": ".py",
   "mimetype": "text/x-python",
   "name": "python",
   "nbconvert_exporter": "python",
   "pygments_lexer": "ipython3",
   "version": "3.6.0"
  }
 },
 "nbformat": 4,
 "nbformat_minor": 2
}
