{
 "cells": [
  {
   "cell_type": "markdown",
   "metadata": {},
   "source": [
    "# Calculate the percent of datapoints dropped by manufacturer"
   ]
  },
  {
   "cell_type": "code",
   "execution_count": 1,
   "metadata": {},
   "outputs": [
    {
     "name": "stdout",
     "output_type": "stream",
     "text": [
      "Populating the interactive namespace from numpy and matplotlib\n"
     ]
    }
   ],
   "source": [
    "import os\n",
    "from os.path import join\n",
    "\n",
    "%pylab inline"
   ]
  },
  {
   "cell_type": "code",
   "execution_count": 3,
   "metadata": {},
   "outputs": [],
   "source": [
    "import numpy as np\n",
    "import pandas as pd"
   ]
  },
  {
   "cell_type": "code",
   "execution_count": 5,
   "metadata": {},
   "outputs": [],
   "source": [
    "analysisDir = '../analysis/'"
   ]
  },
  {
   "cell_type": "code",
   "execution_count": 7,
   "metadata": {},
   "outputs": [],
   "source": [
    "df = pd.read_table(join(analysisDir, 'allSubjs_calibrationSummary.tsv'), sep='\\t')"
   ]
  },
  {
   "cell_type": "code",
   "execution_count": 10,
   "metadata": {},
   "outputs": [
    {
     "data": {
      "text/html": [
       "<div>\n",
       "<style scoped>\n",
       "    .dataframe tbody tr th:only-of-type {\n",
       "        vertical-align: middle;\n",
       "    }\n",
       "\n",
       "    .dataframe tbody tr th {\n",
       "        vertical-align: top;\n",
       "    }\n",
       "\n",
       "    .dataframe thead th {\n",
       "        text-align: right;\n",
       "    }\n",
       "</style>\n",
       "<table border=\"1\" class=\"dataframe\">\n",
       "  <thead>\n",
       "    <tr style=\"text-align: right;\">\n",
       "      <th></th>\n",
       "      <th>trial</th>\n",
       "      <th>ptIdx</th>\n",
       "      <th>percentValid</th>\n",
       "      <th>centX</th>\n",
       "      <th>centY</th>\n",
       "      <th>centDist</th>\n",
       "      <th>centAngle</th>\n",
       "      <th>RMS</th>\n",
       "      <th>subj</th>\n",
       "      <th>glasses</th>\n",
       "      <th>dist</th>\n",
       "      <th>offset</th>\n",
       "      <th>condition</th>\n",
       "    </tr>\n",
       "  </thead>\n",
       "  <tbody>\n",
       "    <tr>\n",
       "      <th>0</th>\n",
       "      <td>1</td>\n",
       "      <td>15</td>\n",
       "      <td>0.992</td>\n",
       "      <td>872.513</td>\n",
       "      <td>456.424</td>\n",
       "      <td>0.683</td>\n",
       "      <td>48.041</td>\n",
       "      <td>0.113</td>\n",
       "      <td>101</td>\n",
       "      <td>Pupil Labs</td>\n",
       "      <td>1M</td>\n",
       "      <td>0deg</td>\n",
       "      <td>101_PupilLabs_1M_0deg</td>\n",
       "    </tr>\n",
       "    <tr>\n",
       "      <th>1</th>\n",
       "      <td>2</td>\n",
       "      <td>21</td>\n",
       "      <td>0.996</td>\n",
       "      <td>178.414</td>\n",
       "      <td>736.665</td>\n",
       "      <td>1.135</td>\n",
       "      <td>83.071</td>\n",
       "      <td>0.074</td>\n",
       "      <td>101</td>\n",
       "      <td>Pupil Labs</td>\n",
       "      <td>1M</td>\n",
       "      <td>0deg</td>\n",
       "      <td>101_PupilLabs_1M_0deg</td>\n",
       "    </tr>\n",
       "    <tr>\n",
       "      <th>2</th>\n",
       "      <td>3</td>\n",
       "      <td>3</td>\n",
       "      <td>0.992</td>\n",
       "      <td>529.483</td>\n",
       "      <td>128.252</td>\n",
       "      <td>0.564</td>\n",
       "      <td>52.494</td>\n",
       "      <td>0.114</td>\n",
       "      <td>101</td>\n",
       "      <td>Pupil Labs</td>\n",
       "      <td>1M</td>\n",
       "      <td>0deg</td>\n",
       "      <td>101_PupilLabs_1M_0deg</td>\n",
       "    </tr>\n",
       "    <tr>\n",
       "      <th>3</th>\n",
       "      <td>4</td>\n",
       "      <td>13</td>\n",
       "      <td>0.988</td>\n",
       "      <td>537.017</td>\n",
       "      <td>401.570</td>\n",
       "      <td>1.226</td>\n",
       "      <td>69.390</td>\n",
       "      <td>0.123</td>\n",
       "      <td>101</td>\n",
       "      <td>Pupil Labs</td>\n",
       "      <td>1M</td>\n",
       "      <td>0deg</td>\n",
       "      <td>101_PupilLabs_1M_0deg</td>\n",
       "    </tr>\n",
       "    <tr>\n",
       "      <th>4</th>\n",
       "      <td>5</td>\n",
       "      <td>25</td>\n",
       "      <td>0.992</td>\n",
       "      <td>862.071</td>\n",
       "      <td>709.513</td>\n",
       "      <td>1.481</td>\n",
       "      <td>76.933</td>\n",
       "      <td>0.087</td>\n",
       "      <td>101</td>\n",
       "      <td>Pupil Labs</td>\n",
       "      <td>1M</td>\n",
       "      <td>0deg</td>\n",
       "      <td>101_PupilLabs_1M_0deg</td>\n",
       "    </tr>\n",
       "    <tr>\n",
       "      <th>5</th>\n",
       "      <td>6</td>\n",
       "      <td>5</td>\n",
       "      <td>0.992</td>\n",
       "      <td>871.807</td>\n",
       "      <td>74.899</td>\n",
       "      <td>1.160</td>\n",
       "      <td>67.254</td>\n",
       "      <td>0.087</td>\n",
       "      <td>101</td>\n",
       "      <td>Pupil Labs</td>\n",
       "      <td>1M</td>\n",
       "      <td>0deg</td>\n",
       "      <td>101_PupilLabs_1M_0deg</td>\n",
       "    </tr>\n",
       "    <tr>\n",
       "      <th>6</th>\n",
       "      <td>7</td>\n",
       "      <td>1</td>\n",
       "      <td>0.992</td>\n",
       "      <td>183.395</td>\n",
       "      <td>78.256</td>\n",
       "      <td>1.049</td>\n",
       "      <td>79.286</td>\n",
       "      <td>0.085</td>\n",
       "      <td>101</td>\n",
       "      <td>Pupil Labs</td>\n",
       "      <td>1M</td>\n",
       "      <td>0deg</td>\n",
       "      <td>101_PupilLabs_1M_0deg</td>\n",
       "    </tr>\n",
       "    <tr>\n",
       "      <th>7</th>\n",
       "      <td>8</td>\n",
       "      <td>23</td>\n",
       "      <td>0.996</td>\n",
       "      <td>500.611</td>\n",
       "      <td>682.510</td>\n",
       "      <td>1.758</td>\n",
       "      <td>89.768</td>\n",
       "      <td>0.080</td>\n",
       "      <td>101</td>\n",
       "      <td>Pupil Labs</td>\n",
       "      <td>1M</td>\n",
       "      <td>0deg</td>\n",
       "      <td>101_PupilLabs_1M_0deg</td>\n",
       "    </tr>\n",
       "    <tr>\n",
       "      <th>8</th>\n",
       "      <td>9</td>\n",
       "      <td>11</td>\n",
       "      <td>0.992</td>\n",
       "      <td>146.555</td>\n",
       "      <td>442.042</td>\n",
       "      <td>0.715</td>\n",
       "      <td>109.137</td>\n",
       "      <td>0.203</td>\n",
       "      <td>101</td>\n",
       "      <td>Pupil Labs</td>\n",
       "      <td>1M</td>\n",
       "      <td>0deg</td>\n",
       "      <td>101_PupilLabs_1M_0deg</td>\n",
       "    </tr>\n",
       "    <tr>\n",
       "      <th>9</th>\n",
       "      <td>1</td>\n",
       "      <td>25</td>\n",
       "      <td>0.992</td>\n",
       "      <td>838.920</td>\n",
       "      <td>755.500</td>\n",
       "      <td>0.909</td>\n",
       "      <td>85.894</td>\n",
       "      <td>0.152</td>\n",
       "      <td>101</td>\n",
       "      <td>Pupil Labs</td>\n",
       "      <td>1M</td>\n",
       "      <td>10Ldeg</td>\n",
       "      <td>101_PupilLabs_1M_10Ldeg</td>\n",
       "    </tr>\n",
       "  </tbody>\n",
       "</table>\n",
       "</div>"
      ],
      "text/plain": [
       "   trial  ptIdx  percentValid    centX    centY  centDist  centAngle    RMS  \\\n",
       "0      1     15         0.992  872.513  456.424     0.683     48.041  0.113   \n",
       "1      2     21         0.996  178.414  736.665     1.135     83.071  0.074   \n",
       "2      3      3         0.992  529.483  128.252     0.564     52.494  0.114   \n",
       "3      4     13         0.988  537.017  401.570     1.226     69.390  0.123   \n",
       "4      5     25         0.992  862.071  709.513     1.481     76.933  0.087   \n",
       "5      6      5         0.992  871.807   74.899     1.160     67.254  0.087   \n",
       "6      7      1         0.992  183.395   78.256     1.049     79.286  0.085   \n",
       "7      8     23         0.996  500.611  682.510     1.758     89.768  0.080   \n",
       "8      9     11         0.992  146.555  442.042     0.715    109.137  0.203   \n",
       "9      1     25         0.992  838.920  755.500     0.909     85.894  0.152   \n",
       "\n",
       "   subj     glasses dist  offset                condition  \n",
       "0   101  Pupil Labs   1M    0deg    101_PupilLabs_1M_0deg  \n",
       "1   101  Pupil Labs   1M    0deg    101_PupilLabs_1M_0deg  \n",
       "2   101  Pupil Labs   1M    0deg    101_PupilLabs_1M_0deg  \n",
       "3   101  Pupil Labs   1M    0deg    101_PupilLabs_1M_0deg  \n",
       "4   101  Pupil Labs   1M    0deg    101_PupilLabs_1M_0deg  \n",
       "5   101  Pupil Labs   1M    0deg    101_PupilLabs_1M_0deg  \n",
       "6   101  Pupil Labs   1M    0deg    101_PupilLabs_1M_0deg  \n",
       "7   101  Pupil Labs   1M    0deg    101_PupilLabs_1M_0deg  \n",
       "8   101  Pupil Labs   1M    0deg    101_PupilLabs_1M_0deg  \n",
       "9   101  Pupil Labs   1M  10Ldeg  101_PupilLabs_1M_10Ldeg  "
      ]
     },
     "execution_count": 10,
     "metadata": {},
     "output_type": "execute_result"
    }
   ],
   "source": [
    "df[:10]"
   ]
  },
  {
   "cell_type": "code",
   "execution_count": 18,
   "metadata": {},
   "outputs": [],
   "source": [
    "# pull out percent valid for each of the different manufacturers\n",
    "pl = df[df.glasses == 'Pupil Labs']['percentValid']\n",
    "smi = df[df.glasses == 'SMI']['percentValid']\n",
    "tobii = df[df.glasses == 'Tobii']['percentValid']"
   ]
  },
  {
   "cell_type": "code",
   "execution_count": 35,
   "metadata": {},
   "outputs": [
    {
     "data": {
      "text/plain": [
       "<matplotlib.axes._subplots.AxesSubplot at 0x115622358>"
      ]
     },
     "execution_count": 35,
     "metadata": {},
     "output_type": "execute_result"
    },
    {
     "data": {
      "image/png": "[encoded data removed]",
      "text/plain": [
       "<matplotlib.figure.Figure at 0x115223940>"
      ]
     },
     "metadata": {},
     "output_type": "display_data"
    }
   ],
   "source": [
    "# take the log transform of the data\n",
    "sns.distplot(pl, color='m')"
   ]
  },
  {
   "cell_type": "code",
   "execution_count": 37,
   "metadata": {},
   "outputs": [],
   "source": [
    "from sklearn import preprocessing"
   ]
  },
  {
   "cell_type": "code",
   "execution_count": 39,
   "metadata": {},
   "outputs": [],
   "source": [
    "pd_norm = (pl - pl.mean()) / (pl.max() - pl.min())"
   ]
  },
  {
   "cell_type": "code",
   "execution_count": 44,
   "metadata": {},
   "outputs": [
    {
     "data": {
      "text/plain": [
       "<matplotlib.axes._subplots.AxesSubplot at 0x116057d30>"
      ]
     },
     "execution_count": 44,
     "metadata": {},
     "output_type": "execute_result"
    },
    {
     "data": {
      "image/png": "[encoded data removed]",
      "text/plain": [
       "<matplotlib.figure.Figure at 0x11606e6a0>"
      ]
     },
     "metadata": {},
     "output_type": "display_data"
    }
   ],
   "source": [
    "sns.distplot(np.exp(pl), color='m')"
   ]
  },
  {
   "cell_type": "code",
   "execution_count": 22,
   "metadata": {},
   "outputs": [],
   "source": [
    "from scipy import stats"
   ]
  },
  {
   "cell_type": "code",
   "execution_count": 24,
   "metadata": {},
   "outputs": [
    {
     "data": {
      "text/plain": [
       "7.9340426163195534"
      ]
     },
     "execution_count": 24,
     "metadata": {},
     "output_type": "execute_result"
    }
   ],
   "source": [
    "F, p = stats.f_oneway(pl, smi, tobii)\n",
    "F"
   ]
  },
  {
   "cell_type": "code",
   "execution_count": 25,
   "metadata": {},
   "outputs": [
    {
     "data": {
      "text/plain": [
       "0.00039030618815859611"
      ]
     },
     "execution_count": 25,
     "metadata": {},
     "output_type": "execute_result"
    }
   ],
   "source": [
    "p"
   ]
  },
  {
   "cell_type": "code",
   "execution_count": 26,
   "metadata": {},
   "outputs": [],
   "source": [
    "import seaborn as sns"
   ]
  },
  {
   "cell_type": "code",
   "execution_count": 28,
   "metadata": {},
   "outputs": [
    {
     "data": {
      "text/plain": [
       "<matplotlib.axes._subplots.AxesSubplot at 0x114c73cf8>"
      ]
     },
     "execution_count": 28,
     "metadata": {},
     "output_type": "execute_result"
    },
    {
     "data": {
      "image/png": "[encoded data removed]",
      "text/plain": [
       "<matplotlib.figure.Figure at 0x114c41be0>"
      ]
     },
     "metadata": {},
     "output_type": "display_data"
    }
   ],
   "source": [
    "pl.hist()"
   ]
  },
  {
   "cell_type": "code",
   "execution_count": 34,
   "metadata": {},
   "outputs": [
    {
     "data": {
      "text/plain": [
       "<matplotlib.axes._subplots.AxesSubplot at 0x115465be0>"
      ]
     },
     "execution_count": 34,
     "metadata": {},
     "output_type": "execute_result"
    },
    {
     "data": {
      "image/png": "[encoded data removed]",
      "text/plain": [
       "<matplotlib.figure.Figure at 0x114db3080>"
      ]
     },
     "metadata": {},
     "output_type": "display_data"
    }
   ],
   "source": [
    "f, axes = plt.subplots(1,3, figsize=(7,3), sharey=True)\n",
    "\n",
    "sns.distplot(pl, color='m', ax=axes[0])\n",
    "sns.distplot(smi, color='b', ax=axes[1])\n",
    "sns.distplot(tobii, color='g', ax=axes[2])"
   ]
  }
 ],
 "metadata": {
  "kernelspec": {
   "display_name": "Python 3",
   "language": "python",
   "name": "python3"
  },
  "language_info": {
   "codemirror_mode": {
    "name": "ipython",
    "version": 3
   },
   "file_extension": ".py",
   "mimetype": "text/x-python",
   "name": "python",
   "nbconvert_exporter": "python",
   "pygments_lexer": "ipython3",
   "version": "3.6.2"
  }
 },
 "nbformat": 4,
 "nbformat_minor": 2
}
