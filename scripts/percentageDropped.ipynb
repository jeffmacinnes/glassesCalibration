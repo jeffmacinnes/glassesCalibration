{
 "cells": [
  {
   "cell_type": "markdown",
   "metadata": {},
   "source": [
    "# Calculate the percent of datapoints dropped by manufacturer"
   ]
  },
  {
   "cell_type": "code",
   "execution_count": 1,
   "metadata": {},
   "outputs": [
    {
     "name": "stdout",
     "output_type": "stream",
     "text": [
      "Populating the interactive namespace from numpy and matplotlib\n"
     ]
    }
   ],
   "source": [
    "import os\n",
    "from os.path import join\n",
    "\n",
    "%pylab inline"
   ]
  },
  {
   "cell_type": "code",
   "execution_count": 2,
   "metadata": {
    "collapsed": true
   },
   "outputs": [],
   "source": [
    "import numpy as np\n",
    "import pandas as pd"
   ]
  },
  {
   "cell_type": "code",
   "execution_count": 3,
   "metadata": {
    "collapsed": true
   },
   "outputs": [],
   "source": [
    "analysisDir = '../analysis/'"
   ]
  },
  {
   "cell_type": "code",
   "execution_count": 4,
   "metadata": {
    "collapsed": true
   },
   "outputs": [],
   "source": [
    "df = pd.read_table(join(analysisDir, 'allSubjs_calibrationSummary.tsv'), sep='\\t')"
   ]
  },
  {
   "cell_type": "code",
   "execution_count": 5,
   "metadata": {},
   "outputs": [
    {
     "data": {
      "text/html": [
       "<div>\n",
       "<table border=\"1\" class=\"dataframe\">\n",
       "  <thead>\n",
       "    <tr style=\"text-align: right;\">\n",
       "      <th></th>\n",
       "      <th>trial</th>\n",
       "      <th>ptIdx</th>\n",
       "      <th>percentValid</th>\n",
       "      <th>centX</th>\n",
       "      <th>centY</th>\n",
       "      <th>centDist</th>\n",
       "      <th>centAngle</th>\n",
       "      <th>RMS</th>\n",
       "      <th>subj</th>\n",
       "      <th>glasses</th>\n",
       "      <th>dist</th>\n",
       "      <th>offset</th>\n",
       "      <th>condition</th>\n",
       "    </tr>\n",
       "  </thead>\n",
       "  <tbody>\n",
       "    <tr>\n",
       "      <th>0</th>\n",
       "      <td>1</td>\n",
       "      <td>15</td>\n",
       "      <td>0.992</td>\n",
       "      <td>872.513</td>\n",
       "      <td>456.424</td>\n",
       "      <td>0.683</td>\n",
       "      <td>48.041</td>\n",
       "      <td>0.113</td>\n",
       "      <td>101</td>\n",
       "      <td>Pupil Labs</td>\n",
       "      <td>1M</td>\n",
       "      <td>0deg</td>\n",
       "      <td>101_PupilLabs_1M_0deg</td>\n",
       "    </tr>\n",
       "    <tr>\n",
       "      <th>1</th>\n",
       "      <td>2</td>\n",
       "      <td>21</td>\n",
       "      <td>0.996</td>\n",
       "      <td>178.414</td>\n",
       "      <td>736.665</td>\n",
       "      <td>1.135</td>\n",
       "      <td>83.071</td>\n",
       "      <td>0.074</td>\n",
       "      <td>101</td>\n",
       "      <td>Pupil Labs</td>\n",
       "      <td>1M</td>\n",
       "      <td>0deg</td>\n",
       "      <td>101_PupilLabs_1M_0deg</td>\n",
       "    </tr>\n",
       "    <tr>\n",
       "      <th>2</th>\n",
       "      <td>3</td>\n",
       "      <td>3</td>\n",
       "      <td>0.992</td>\n",
       "      <td>529.483</td>\n",
       "      <td>128.252</td>\n",
       "      <td>0.564</td>\n",
       "      <td>52.494</td>\n",
       "      <td>0.114</td>\n",
       "      <td>101</td>\n",
       "      <td>Pupil Labs</td>\n",
       "      <td>1M</td>\n",
       "      <td>0deg</td>\n",
       "      <td>101_PupilLabs_1M_0deg</td>\n",
       "    </tr>\n",
       "    <tr>\n",
       "      <th>3</th>\n",
       "      <td>4</td>\n",
       "      <td>13</td>\n",
       "      <td>0.988</td>\n",
       "      <td>537.017</td>\n",
       "      <td>401.570</td>\n",
       "      <td>1.226</td>\n",
       "      <td>69.390</td>\n",
       "      <td>0.123</td>\n",
       "      <td>101</td>\n",
       "      <td>Pupil Labs</td>\n",
       "      <td>1M</td>\n",
       "      <td>0deg</td>\n",
       "      <td>101_PupilLabs_1M_0deg</td>\n",
       "    </tr>\n",
       "    <tr>\n",
       "      <th>4</th>\n",
       "      <td>5</td>\n",
       "      <td>25</td>\n",
       "      <td>0.992</td>\n",
       "      <td>862.071</td>\n",
       "      <td>709.513</td>\n",
       "      <td>1.481</td>\n",
       "      <td>76.933</td>\n",
       "      <td>0.087</td>\n",
       "      <td>101</td>\n",
       "      <td>Pupil Labs</td>\n",
       "      <td>1M</td>\n",
       "      <td>0deg</td>\n",
       "      <td>101_PupilLabs_1M_0deg</td>\n",
       "    </tr>\n",
       "    <tr>\n",
       "      <th>5</th>\n",
       "      <td>6</td>\n",
       "      <td>5</td>\n",
       "      <td>0.992</td>\n",
       "      <td>871.807</td>\n",
       "      <td>74.899</td>\n",
       "      <td>1.160</td>\n",
       "      <td>67.254</td>\n",
       "      <td>0.087</td>\n",
       "      <td>101</td>\n",
       "      <td>Pupil Labs</td>\n",
       "      <td>1M</td>\n",
       "      <td>0deg</td>\n",
       "      <td>101_PupilLabs_1M_0deg</td>\n",
       "    </tr>\n",
       "    <tr>\n",
       "      <th>6</th>\n",
       "      <td>7</td>\n",
       "      <td>1</td>\n",
       "      <td>0.992</td>\n",
       "      <td>183.395</td>\n",
       "      <td>78.256</td>\n",
       "      <td>1.049</td>\n",
       "      <td>79.286</td>\n",
       "      <td>0.085</td>\n",
       "      <td>101</td>\n",
       "      <td>Pupil Labs</td>\n",
       "      <td>1M</td>\n",
       "      <td>0deg</td>\n",
       "      <td>101_PupilLabs_1M_0deg</td>\n",
       "    </tr>\n",
       "    <tr>\n",
       "      <th>7</th>\n",
       "      <td>8</td>\n",
       "      <td>23</td>\n",
       "      <td>0.996</td>\n",
       "      <td>500.611</td>\n",
       "      <td>682.510</td>\n",
       "      <td>1.758</td>\n",
       "      <td>89.768</td>\n",
       "      <td>0.080</td>\n",
       "      <td>101</td>\n",
       "      <td>Pupil Labs</td>\n",
       "      <td>1M</td>\n",
       "      <td>0deg</td>\n",
       "      <td>101_PupilLabs_1M_0deg</td>\n",
       "    </tr>\n",
       "    <tr>\n",
       "      <th>8</th>\n",
       "      <td>9</td>\n",
       "      <td>11</td>\n",
       "      <td>0.992</td>\n",
       "      <td>146.555</td>\n",
       "      <td>442.042</td>\n",
       "      <td>0.715</td>\n",
       "      <td>109.137</td>\n",
       "      <td>0.203</td>\n",
       "      <td>101</td>\n",
       "      <td>Pupil Labs</td>\n",
       "      <td>1M</td>\n",
       "      <td>0deg</td>\n",
       "      <td>101_PupilLabs_1M_0deg</td>\n",
       "    </tr>\n",
       "    <tr>\n",
       "      <th>9</th>\n",
       "      <td>1</td>\n",
       "      <td>25</td>\n",
       "      <td>0.992</td>\n",
       "      <td>838.920</td>\n",
       "      <td>755.500</td>\n",
       "      <td>0.909</td>\n",
       "      <td>85.894</td>\n",
       "      <td>0.152</td>\n",
       "      <td>101</td>\n",
       "      <td>Pupil Labs</td>\n",
       "      <td>1M</td>\n",
       "      <td>10Ldeg</td>\n",
       "      <td>101_PupilLabs_1M_10Ldeg</td>\n",
       "    </tr>\n",
       "  </tbody>\n",
       "</table>\n",
       "</div>"
      ],
      "text/plain": [
       "   trial  ptIdx  percentValid    centX    centY  centDist  centAngle    RMS  \\\n",
       "0      1     15         0.992  872.513  456.424     0.683     48.041  0.113   \n",
       "1      2     21         0.996  178.414  736.665     1.135     83.071  0.074   \n",
       "2      3      3         0.992  529.483  128.252     0.564     52.494  0.114   \n",
       "3      4     13         0.988  537.017  401.570     1.226     69.390  0.123   \n",
       "4      5     25         0.992  862.071  709.513     1.481     76.933  0.087   \n",
       "5      6      5         0.992  871.807   74.899     1.160     67.254  0.087   \n",
       "6      7      1         0.992  183.395   78.256     1.049     79.286  0.085   \n",
       "7      8     23         0.996  500.611  682.510     1.758     89.768  0.080   \n",
       "8      9     11         0.992  146.555  442.042     0.715    109.137  0.203   \n",
       "9      1     25         0.992  838.920  755.500     0.909     85.894  0.152   \n",
       "\n",
       "   subj     glasses dist  offset                condition  \n",
       "0   101  Pupil Labs   1M    0deg    101_PupilLabs_1M_0deg  \n",
       "1   101  Pupil Labs   1M    0deg    101_PupilLabs_1M_0deg  \n",
       "2   101  Pupil Labs   1M    0deg    101_PupilLabs_1M_0deg  \n",
       "3   101  Pupil Labs   1M    0deg    101_PupilLabs_1M_0deg  \n",
       "4   101  Pupil Labs   1M    0deg    101_PupilLabs_1M_0deg  \n",
       "5   101  Pupil Labs   1M    0deg    101_PupilLabs_1M_0deg  \n",
       "6   101  Pupil Labs   1M    0deg    101_PupilLabs_1M_0deg  \n",
       "7   101  Pupil Labs   1M    0deg    101_PupilLabs_1M_0deg  \n",
       "8   101  Pupil Labs   1M    0deg    101_PupilLabs_1M_0deg  \n",
       "9   101  Pupil Labs   1M  10Ldeg  101_PupilLabs_1M_10Ldeg  "
      ]
     },
     "execution_count": 5,
     "metadata": {},
     "output_type": "execute_result"
    }
   ],
   "source": [
    "df[:10]"
   ]
  },
  {
   "cell_type": "markdown",
   "metadata": {},
   "source": [
    "# Run model\n",
    "Run Linear Mixed Effects model to test whether percentValid differs as a function of glasses, controlling for subj"
   ]
  },
  {
   "cell_type": "code",
   "execution_count": 22,
   "metadata": {
    "collapsed": true
   },
   "outputs": [],
   "source": [
    "import statsmodels.api as sm\n",
    "import statsmodels.formula.api as smf"
   ]
  },
  {
   "cell_type": "markdown",
   "metadata": {},
   "source": [
    "### Run the initial model\n",
    "This will set one of the levels of the 'glasses' var to the intercept, and make comparisons using the other levels"
   ]
  },
  {
   "cell_type": "code",
   "execution_count": 23,
   "metadata": {},
   "outputs": [
    {
     "name": "stdout",
     "output_type": "stream",
     "text": [
      "           Mixed Linear Model Regression Results\n",
      "===========================================================\n",
      "Model:             MixedLM Dependent Variable: percentValid\n",
      "No. Observations:  729     Method:             REML        \n",
      "No. Groups:        3       Scale:              0.0019      \n",
      "Min. group size:   243     Likelihood:         1236.2956   \n",
      "Max. group size:   243     Converged:          Yes         \n",
      "Mean group size:   243.0                                   \n",
      "-----------------------------------------------------------\n",
      "                 Coef. Std.Err.    z    P>|z| [0.025 0.975]\n",
      "-----------------------------------------------------------\n",
      "Intercept        0.971    0.009 110.361 0.000  0.954  0.988\n",
      "glasses[T.SMI]   0.016    0.004   4.016 0.000  0.008  0.024\n",
      "glasses[T.Tobii] 0.011    0.004   2.837 0.005  0.003  0.019\n",
      "groups RE        0.000    0.005                            \n",
      "===========================================================\n",
      "\n"
     ]
    },
    {
     "name": "stderr",
     "output_type": "stream",
     "text": [
      "/usr/local/lib/python3.6/site-packages/statsmodels/regression/mixed_linear_model.py:2019: ConvergenceWarning: The MLE may be on the boundary of the parameter space.\n",
      "  warnings.warn(msg, ConvergenceWarning)\n"
     ]
    }
   ],
   "source": [
    "md = smf.mixedlm(\"percentValid ~ glasses\", df, groups=df['subj']).fit()\n",
    "print(mdf.summary())"
   ]
  },
  {
   "cell_type": "markdown",
   "metadata": {},
   "source": [
    "#### Results:\n",
    "\n",
    "* Pupil Labs mean: .971 (SE: .009) \n",
    "* SMI mean: .987 (SE: .004)\n",
    "* Tobii mean: .982 (SE: .004)\n",
    "\n",
    "* Pupil Labs > SMI: z = 4.016, p < .001\n",
    "* Pupil Labs > Tobii: z = 2.837, p < .001\n",
    "\n",
    "However, this model doesn't give us the SMI > Tobii test. To get that we run the same model, only now explicitly set\n",
    "SMI to be the intercept"
   ]
  },
  {
   "cell_type": "code",
   "execution_count": 24,
   "metadata": {},
   "outputs": [
    {
     "name": "stdout",
     "output_type": "stream",
     "text": [
      "                             Mixed Linear Model Regression Results\n",
      "================================================================================================\n",
      "Model:                          MixedLM             Dependent Variable:             percentValid\n",
      "No. Observations:               729                 Method:                         REML        \n",
      "No. Groups:                     3                   Scale:                          0.0019      \n",
      "Min. group size:                243                 Likelihood:                     1236.2956   \n",
      "Max. group size:                243                 Converged:                      Yes         \n",
      "Mean group size:                243.0                                                           \n",
      "------------------------------------------------------------------------------------------------\n",
      "                                                     Coef.  Std.Err.    z    P>|z| [0.025 0.975]\n",
      "------------------------------------------------------------------------------------------------\n",
      "Intercept                                             0.987    0.009 112.157 0.000  0.970  1.004\n",
      "C(glasses, Treatment(reference='SMI'))[T.Pupil Labs] -0.016    0.004  -4.016 0.000 -0.024 -0.008\n",
      "C(glasses, Treatment(reference='SMI'))[T.Tobii]      -0.005    0.004  -1.180 0.238 -0.012  0.003\n",
      "groups RE                                             0.000    0.005                            \n",
      "================================================================================================\n",
      "\n"
     ]
    },
    {
     "name": "stderr",
     "output_type": "stream",
     "text": [
      "/usr/local/lib/python3.6/site-packages/statsmodels/regression/mixed_linear_model.py:2019: ConvergenceWarning: The MLE may be on the boundary of the parameter space.\n",
      "  warnings.warn(msg, ConvergenceWarning)\n"
     ]
    }
   ],
   "source": [
    "md2 = smf.mixedlm(\"percentValid ~ C(glasses, Treatment(reference='SMI'))\", df, groups=df['subj']).fit()\n",
    "print(md2.summary())"
   ]
  },
  {
   "cell_type": "markdown",
   "metadata": {},
   "source": [
    "#### Results:\n",
    "\n",
    "* SMI > Tobii: z = -1.18, p = .238"
   ]
  },
  {
   "cell_type": "markdown",
   "metadata": {},
   "source": [
    "# Summary\n",
    "\n",
    "There was a significant mean difference between the glasses manufacturers. Specifically, Pupil Labs had significantly more dropped data points compared to either Tobii or SMI. There was no difference between the Tobii and SMI glasses"
   ]
  }
 ],
 "metadata": {
  "kernelspec": {
   "display_name": "Python 3",
   "language": "python",
   "name": "python3"
  },
  "language_info": {
   "codemirror_mode": {
    "name": "ipython",
    "version": 3
   },
   "file_extension": ".py",
   "mimetype": "text/x-python",
   "name": "python",
   "nbconvert_exporter": "python",
   "pygments_lexer": "ipython3",
   "version": "3.6.4"
  }
 },
 "nbformat": 4,
 "nbformat_minor": 2
}
