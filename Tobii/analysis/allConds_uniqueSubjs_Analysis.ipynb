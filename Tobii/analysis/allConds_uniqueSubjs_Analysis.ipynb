{
 "cells": [
  {
   "cell_type": "code",
   "execution_count": 1,
   "metadata": {
    "collapsed": true
   },
   "outputs": [],
   "source": [
    "from __future__ import division\n",
    "import os\n",
    "import sys\n",
    "import pandas as pd\n",
    "import numpy as np\n"
   ]
  },
  {
   "cell_type": "code",
   "execution_count": 2,
   "metadata": {
    "collapsed": false
   },
   "outputs": [
    {
     "name": "stdout",
     "output_type": "stream",
     "text": [
      "Populating the interactive namespace from numpy and matplotlib\n"
     ]
    }
   ],
   "source": [
    "%pylab inline"
   ]
  },
  {
   "cell_type": "code",
   "execution_count": 3,
   "metadata": {
    "collapsed": true
   },
   "outputs": [],
   "source": [
    "matplotlib.rc('ytick', labelsize=20) \n",
    "matplotlib.rc('xtick', labelsize=20) "
   ]
  },
  {
   "cell_type": "markdown",
   "metadata": {},
   "source": [
    "### Define helper functions\n",
    "Just some basic tools that'll be helpful throughout the analysis"
   ]
  },
  {
   "cell_type": "code",
   "execution_count": 4,
   "metadata": {
    "collapsed": false
   },
   "outputs": [],
   "source": [
    "# tools for translating between 2D and 1D position indices for the calibration grid\n",
    "calibGridDims = [5,5]\n",
    "def getPtIdx(x,y):\n",
    "    ptIdx = ((y-1)*calibGridDims[0]) + x\n",
    "    return ptIdx\n",
    "\n",
    "def getRowIdx(ptIdx):\n",
    "    print ptIdx\n",
    "    row,col = np.unravel_index(ptIdx-1, (calibGridDims[0],calibGridDims[1]))\n",
    "    row = row+1\n",
    "    col = col+1\n",
    "    return row, col\n"
   ]
  },
  {
   "cell_type": "code",
   "execution_count": 5,
   "metadata": {
    "collapsed": true
   },
   "outputs": [],
   "source": [
    "# convert between cartesian and polar coordinates\n",
    "def polar2cart(dist, angle):\n",
    "    x = dist * np.cos(np.deg2rad(angle))\n",
    "    y = dist * np.sin(np.deg2rad(angle))\n",
    "    return x,y"
   ]
  },
  {
   "cell_type": "code",
   "execution_count": 6,
   "metadata": {
    "collapsed": false
   },
   "outputs": [],
   "source": [
    "# base plot for accuracy plotting\n",
    "def plotCalibration(calibPts, figTitle):\n",
    "    \"\"\"\n",
    "    calibPts is a dictionary, where each key holds another dictionary with fields for\n",
    "    distance, angle, RMS, and color for a desired calibration pt. \n",
    "    \"\"\"\n",
    "    \n",
    "    # start figure\n",
    "    fig = plt.figure(figsize=(8,8))\n",
    "    fig.suptitle(figTitle, fontsize=20, fontweight='bold')\n",
    "    ax = fig.add_subplot(111)\n",
    "    xRange = yRange = [-3.5, 3.5]\n",
    "    ax.set_ylim(yRange[0], yRange[1])\n",
    "    ax.set_xlim(xRange[0], xRange[1])\n",
    "\n",
    "    # add circle at center for reference\n",
    "    centerPt = plt.Circle((0,0), radius=.3, color='k', alpha=.4)\n",
    "    ax.add_artist(centerPt)\n",
    "    \n",
    "    ax.spines['left'].set_position('center')\n",
    "    ax.spines['right'].set_visible(False)\n",
    "    ax.yaxis.set_ticks([])\n",
    "\n",
    "    ax.spines['bottom'].set_position('center')\n",
    "    ax.spines['top'].set_visible(False)\n",
    "    ax.xaxis.set_ticks([])\n",
    "\n",
    "    # Add circles as tickmarks\n",
    "    for r in range(1,4):\n",
    "        circle1 = plt.Circle((0,0), r, color='k', fill=False, ls=':', alpha=.6)\n",
    "        ax.add_artist(circle1)\n",
    "\n",
    "    # add cross lines\n",
    "    lineExtent = 2.75\n",
    "    ax.plot([-lineExtent, lineExtent], [-lineExtent, lineExtent], ls=':', color='k')\n",
    "    ax.plot([-lineExtent, lineExtent], [lineExtent, -lineExtent], ls=':', color='k')\n",
    "\n",
    "    # add labels\n",
    "    ax.text(xRange[1]+.1, 0, '0$^\\circ$ ', fontsize=15, verticalalignment='center', horizontalalignment='left')\n",
    "    ax.text(lineExtent+.1, lineExtent+.1, '45$^\\circ$ ', fontsize=15, horizontalalignment='left')\n",
    "    ax.text(0, yRange[1]+.1, '90$^\\circ$ ', fontsize=15, horizontalalignment='center')\n",
    "    ax.text(-lineExtent-.1, lineExtent+.1, '135$^\\circ$ ', fontsize=15, horizontalalignment='right')\n",
    "    ax.text(xRange[0]-.1, 0, '180$^\\circ$ ', fontsize=15, verticalalignment='center', horizontalalignment='right')\n",
    "    ax.text(-lineExtent, -lineExtent-.1, '225$^\\circ$ ', fontsize=15, horizontalalignment='right')\n",
    "    ax.text(0, yRange[0]-.1, '270$^\\circ$ ', fontsize=15, verticalalignment='top', horizontalalignment='center')\n",
    "    ax.text(lineExtent+.1, -lineExtent-.1, '315$^\\circ$ ', fontsize=15, horizontalalignment='left')\n",
    "\n",
    "    for i in range(1,4):\n",
    "        ax.text(np.cos(np.deg2rad(45))*i + .15, \n",
    "                np.sin(np.deg2rad(45))*i - .1, \n",
    "                str(i) + '$^\\circ$ ', \n",
    "                fontsize=15,\n",
    "                weight='bold',\n",
    "                horizontalalignment='left')\n",
    "        \n",
    "    ####################### Plot the datapoints\n",
    "    legHandles = []\n",
    "    legLabels = []\n",
    "    for i,ptKey in enumerate(calibPts.keys()):\n",
    "        thisPt = calibPts[ptKey]\n",
    "        dist = thisPt['dist']\n",
    "        angle = thisPt['angle']\n",
    "        rms = thisPt['RMS']\n",
    "        ptColor = thisPt['color']\n",
    "        \n",
    "        # convert distance, angle to x,y \n",
    "        x,y = polar2cart(dist, angle)\n",
    "        \n",
    "        # plot the location\n",
    "        loc = plt.Circle((x,y), .1, color=ptColor, label=ptKey)\n",
    "        \n",
    "        # plot the rms\n",
    "        spread = plt.Circle((x,y), rms, facecolor=ptColor, edgecolor='none', alpha=.4)\n",
    "        \n",
    "        ax.add_artist(loc)\n",
    "        ax.add_artist(spread)\n",
    "        \n",
    "        # add this point to the legend\n",
    "        legHandles.append(loc)\n",
    "        legLabels.append(ptKey)\n",
    "    \n",
    "    ### display legend\n",
    "    # sort the data by label names\n",
    "    legHandles, legLabels = (list(x) for x in zip(*sorted(zip(legHandles, legLabels), key=lambda x: x[1])))\n",
    "    ax.legend(legHandles, legLabels, bbox_to_anchor=(1.3, 1))"
   ]
  },
  {
   "cell_type": "markdown",
   "metadata": {},
   "source": [
    "## Load/Prep Data"
   ]
  },
  {
   "cell_type": "code",
   "execution_count": 7,
   "metadata": {
    "collapsed": false
   },
   "outputs": [],
   "source": [
    "# read in combined subjects dataframe\n",
    "df = pd.read_csv('allConds_uniqueSubjs.csv', sep='\\t')"
   ]
  },
  {
   "cell_type": "code",
   "execution_count": 8,
   "metadata": {
    "collapsed": false
   },
   "outputs": [
    {
     "data": {
      "text/html": [
       "<div>\n",
       "<table border=\"1\" class=\"dataframe\">\n",
       "  <thead>\n",
       "    <tr style=\"text-align: right;\">\n",
       "      <th></th>\n",
       "      <th>RMS</th>\n",
       "      <th>centAngle</th>\n",
       "      <th>centDist</th>\n",
       "      <th>centX</th>\n",
       "      <th>centY</th>\n",
       "      <th>percentValid</th>\n",
       "      <th>ptIdx</th>\n",
       "      <th>condition</th>\n",
       "      <th>subj</th>\n",
       "      <th>offset</th>\n",
       "    </tr>\n",
       "  </thead>\n",
       "  <tbody>\n",
       "    <tr>\n",
       "      <th>0</th>\n",
       "      <td>0.67</td>\n",
       "      <td>271.72</td>\n",
       "      <td>1.65</td>\n",
       "      <td>341.60</td>\n",
       "      <td>1108.90</td>\n",
       "      <td>1.00</td>\n",
       "      <td>22</td>\n",
       "      <td>e_0deg</td>\n",
       "      <td>e</td>\n",
       "      <td>0deg</td>\n",
       "    </tr>\n",
       "    <tr>\n",
       "      <th>1</th>\n",
       "      <td>0.42</td>\n",
       "      <td>295.66</td>\n",
       "      <td>2.22</td>\n",
       "      <td>660.21</td>\n",
       "      <td>833.53</td>\n",
       "      <td>0.94</td>\n",
       "      <td>13</td>\n",
       "      <td>e_0deg</td>\n",
       "      <td>e</td>\n",
       "      <td>0deg</td>\n",
       "    </tr>\n",
       "    <tr>\n",
       "      <th>2</th>\n",
       "      <td>0.58</td>\n",
       "      <td>285.25</td>\n",
       "      <td>2.71</td>\n",
       "      <td>785.50</td>\n",
       "      <td>602.52</td>\n",
       "      <td>0.96</td>\n",
       "      <td>4</td>\n",
       "      <td>e_0deg</td>\n",
       "      <td>e</td>\n",
       "      <td>0deg</td>\n",
       "    </tr>\n",
       "    <tr>\n",
       "      <th>3</th>\n",
       "      <td>0.61</td>\n",
       "      <td>313.76</td>\n",
       "      <td>2.34</td>\n",
       "      <td>436.32</td>\n",
       "      <td>614.94</td>\n",
       "      <td>1.00</td>\n",
       "      <td>6</td>\n",
       "      <td>e_0deg</td>\n",
       "      <td>e</td>\n",
       "      <td>0deg</td>\n",
       "    </tr>\n",
       "    <tr>\n",
       "      <th>4</th>\n",
       "      <td>0.16</td>\n",
       "      <td>284.53</td>\n",
       "      <td>2.58</td>\n",
       "      <td>274.73</td>\n",
       "      <td>1083.69</td>\n",
       "      <td>0.98</td>\n",
       "      <td>16</td>\n",
       "      <td>e_0deg</td>\n",
       "      <td>e</td>\n",
       "      <td>0deg</td>\n",
       "    </tr>\n",
       "  </tbody>\n",
       "</table>\n",
       "</div>"
      ],
      "text/plain": [
       "    RMS  centAngle  centDist   centX    centY  percentValid  ptIdx condition  \\\n",
       "0  0.67     271.72      1.65  341.60  1108.90          1.00     22    e_0deg   \n",
       "1  0.42     295.66      2.22  660.21   833.53          0.94     13    e_0deg   \n",
       "2  0.58     285.25      2.71  785.50   602.52          0.96      4    e_0deg   \n",
       "3  0.61     313.76      2.34  436.32   614.94          1.00      6    e_0deg   \n",
       "4  0.16     284.53      2.58  274.73  1083.69          0.98     16    e_0deg   \n",
       "\n",
       "  subj offset  \n",
       "0    e   0deg  \n",
       "1    e   0deg  \n",
       "2    e   0deg  \n",
       "3    e   0deg  \n",
       "4    e   0deg  "
      ]
     },
     "execution_count": 8,
     "metadata": {},
     "output_type": "execute_result"
    }
   ],
   "source": [
    "df.head()"
   ]
  },
  {
   "cell_type": "markdown",
   "metadata": {},
   "source": [
    "### convert condition labels cols to categorical dtype\n",
    "This will create columns with unique codes for each subject, and unique codes for each condition"
   ]
  },
  {
   "cell_type": "code",
   "execution_count": 9,
   "metadata": {
    "collapsed": false
   },
   "outputs": [],
   "source": [
    "# convert to categorical dtype\n",
    "df['subjCode'] = df.loc[:,'subj'].astype('category')\n",
    "df['offsetCode'] = df.loc[:,'offset'].astype('category')\n",
    "\n",
    "# show the numbers instead of labels\n",
    "cat_columns = df.select_dtypes(['category']).columns\n",
    "df[cat_columns] = df[cat_columns].apply(lambda x: x.cat.codes)"
   ]
  },
  {
   "cell_type": "code",
   "execution_count": 10,
   "metadata": {
    "collapsed": false
   },
   "outputs": [
    {
     "data": {
      "text/html": [
       "<div>\n",
       "<table border=\"1\" class=\"dataframe\">\n",
       "  <thead>\n",
       "    <tr style=\"text-align: right;\">\n",
       "      <th></th>\n",
       "      <th>RMS</th>\n",
       "      <th>centAngle</th>\n",
       "      <th>centDist</th>\n",
       "      <th>centX</th>\n",
       "      <th>centY</th>\n",
       "      <th>percentValid</th>\n",
       "      <th>ptIdx</th>\n",
       "      <th>condition</th>\n",
       "      <th>subj</th>\n",
       "      <th>offset</th>\n",
       "      <th>subjCode</th>\n",
       "      <th>offsetCode</th>\n",
       "    </tr>\n",
       "  </thead>\n",
       "  <tbody>\n",
       "    <tr>\n",
       "      <th>0</th>\n",
       "      <td>0.67</td>\n",
       "      <td>271.72</td>\n",
       "      <td>1.65</td>\n",
       "      <td>341.60</td>\n",
       "      <td>1108.90</td>\n",
       "      <td>1.00</td>\n",
       "      <td>22</td>\n",
       "      <td>e_0deg</td>\n",
       "      <td>e</td>\n",
       "      <td>0deg</td>\n",
       "      <td>0</td>\n",
       "      <td>0</td>\n",
       "    </tr>\n",
       "    <tr>\n",
       "      <th>1</th>\n",
       "      <td>0.42</td>\n",
       "      <td>295.66</td>\n",
       "      <td>2.22</td>\n",
       "      <td>660.21</td>\n",
       "      <td>833.53</td>\n",
       "      <td>0.94</td>\n",
       "      <td>13</td>\n",
       "      <td>e_0deg</td>\n",
       "      <td>e</td>\n",
       "      <td>0deg</td>\n",
       "      <td>0</td>\n",
       "      <td>0</td>\n",
       "    </tr>\n",
       "    <tr>\n",
       "      <th>2</th>\n",
       "      <td>0.58</td>\n",
       "      <td>285.25</td>\n",
       "      <td>2.71</td>\n",
       "      <td>785.50</td>\n",
       "      <td>602.52</td>\n",
       "      <td>0.96</td>\n",
       "      <td>4</td>\n",
       "      <td>e_0deg</td>\n",
       "      <td>e</td>\n",
       "      <td>0deg</td>\n",
       "      <td>0</td>\n",
       "      <td>0</td>\n",
       "    </tr>\n",
       "    <tr>\n",
       "      <th>3</th>\n",
       "      <td>0.61</td>\n",
       "      <td>313.76</td>\n",
       "      <td>2.34</td>\n",
       "      <td>436.32</td>\n",
       "      <td>614.94</td>\n",
       "      <td>1.00</td>\n",
       "      <td>6</td>\n",
       "      <td>e_0deg</td>\n",
       "      <td>e</td>\n",
       "      <td>0deg</td>\n",
       "      <td>0</td>\n",
       "      <td>0</td>\n",
       "    </tr>\n",
       "    <tr>\n",
       "      <th>4</th>\n",
       "      <td>0.16</td>\n",
       "      <td>284.53</td>\n",
       "      <td>2.58</td>\n",
       "      <td>274.73</td>\n",
       "      <td>1083.69</td>\n",
       "      <td>0.98</td>\n",
       "      <td>16</td>\n",
       "      <td>e_0deg</td>\n",
       "      <td>e</td>\n",
       "      <td>0deg</td>\n",
       "      <td>0</td>\n",
       "      <td>0</td>\n",
       "    </tr>\n",
       "  </tbody>\n",
       "</table>\n",
       "</div>"
      ],
      "text/plain": [
       "    RMS  centAngle  centDist   centX    centY  percentValid  ptIdx condition  \\\n",
       "0  0.67     271.72      1.65  341.60  1108.90          1.00     22    e_0deg   \n",
       "1  0.42     295.66      2.22  660.21   833.53          0.94     13    e_0deg   \n",
       "2  0.58     285.25      2.71  785.50   602.52          0.96      4    e_0deg   \n",
       "3  0.61     313.76      2.34  436.32   614.94          1.00      6    e_0deg   \n",
       "4  0.16     284.53      2.58  274.73  1083.69          0.98     16    e_0deg   \n",
       "\n",
       "  subj offset  subjCode  offsetCode  \n",
       "0    e   0deg         0           0  \n",
       "1    e   0deg         0           0  \n",
       "2    e   0deg         0           0  \n",
       "3    e   0deg         0           0  \n",
       "4    e   0deg         0           0  "
      ]
     },
     "execution_count": 10,
     "metadata": {},
     "output_type": "execute_result"
    }
   ],
   "source": [
    "df.head()"
   ]
  },
  {
   "cell_type": "markdown",
   "metadata": {},
   "source": [
    "### remove invalid trials from the dataset"
   ]
  },
  {
   "cell_type": "code",
   "execution_count": 11,
   "metadata": {
    "collapsed": false
   },
   "outputs": [
    {
     "name": "stdout",
     "output_type": "stream",
     "text": [
      "(525, 12)\n",
      "(508, 12)\n"
     ]
    }
   ],
   "source": [
    "print df.shape\n",
    "dfClean = df[df.percentValid >= .8]\n",
    "print dfClean.shape"
   ]
  },
  {
   "cell_type": "markdown",
   "metadata": {},
   "source": [
    "# Analyze Calibration Accuracy at 0deg offset\n",
    "How accurately do the gaze points map on to the calibration grid locations when the grid is positioned directly in front of the participant"
   ]
  },
  {
   "cell_type": "code",
   "execution_count": 12,
   "metadata": {
    "collapsed": false
   },
   "outputs": [],
   "source": [
    "# grab the 0-deg offset trials\n",
    "df_0deg = dfClean.loc[dfClean.offsetCode==0, :]"
   ]
  },
  {
   "cell_type": "code",
   "execution_count": 13,
   "metadata": {
    "collapsed": false
   },
   "outputs": [
    {
     "data": {
      "text/html": [
       "<div>\n",
       "<table border=\"1\" class=\"dataframe\">\n",
       "  <thead>\n",
       "    <tr style=\"text-align: right;\">\n",
       "      <th></th>\n",
       "      <th>RMS</th>\n",
       "      <th>centAngle</th>\n",
       "      <th>centDist</th>\n",
       "      <th>centX</th>\n",
       "      <th>centY</th>\n",
       "      <th>percentValid</th>\n",
       "      <th>ptIdx</th>\n",
       "      <th>condition</th>\n",
       "      <th>subj</th>\n",
       "      <th>offset</th>\n",
       "      <th>subjCode</th>\n",
       "      <th>offsetCode</th>\n",
       "    </tr>\n",
       "  </thead>\n",
       "  <tbody>\n",
       "    <tr>\n",
       "      <th>0</th>\n",
       "      <td>0.67</td>\n",
       "      <td>271.72</td>\n",
       "      <td>1.65</td>\n",
       "      <td>341.60</td>\n",
       "      <td>1108.90</td>\n",
       "      <td>1.00</td>\n",
       "      <td>22</td>\n",
       "      <td>e_0deg</td>\n",
       "      <td>e</td>\n",
       "      <td>0deg</td>\n",
       "      <td>0</td>\n",
       "      <td>0</td>\n",
       "    </tr>\n",
       "    <tr>\n",
       "      <th>1</th>\n",
       "      <td>0.42</td>\n",
       "      <td>295.66</td>\n",
       "      <td>2.22</td>\n",
       "      <td>660.21</td>\n",
       "      <td>833.53</td>\n",
       "      <td>0.94</td>\n",
       "      <td>13</td>\n",
       "      <td>e_0deg</td>\n",
       "      <td>e</td>\n",
       "      <td>0deg</td>\n",
       "      <td>0</td>\n",
       "      <td>0</td>\n",
       "    </tr>\n",
       "    <tr>\n",
       "      <th>2</th>\n",
       "      <td>0.58</td>\n",
       "      <td>285.25</td>\n",
       "      <td>2.71</td>\n",
       "      <td>785.50</td>\n",
       "      <td>602.52</td>\n",
       "      <td>0.96</td>\n",
       "      <td>4</td>\n",
       "      <td>e_0deg</td>\n",
       "      <td>e</td>\n",
       "      <td>0deg</td>\n",
       "      <td>0</td>\n",
       "      <td>0</td>\n",
       "    </tr>\n",
       "    <tr>\n",
       "      <th>3</th>\n",
       "      <td>0.61</td>\n",
       "      <td>313.76</td>\n",
       "      <td>2.34</td>\n",
       "      <td>436.32</td>\n",
       "      <td>614.94</td>\n",
       "      <td>1.00</td>\n",
       "      <td>6</td>\n",
       "      <td>e_0deg</td>\n",
       "      <td>e</td>\n",
       "      <td>0deg</td>\n",
       "      <td>0</td>\n",
       "      <td>0</td>\n",
       "    </tr>\n",
       "    <tr>\n",
       "      <th>4</th>\n",
       "      <td>0.16</td>\n",
       "      <td>284.53</td>\n",
       "      <td>2.58</td>\n",
       "      <td>274.73</td>\n",
       "      <td>1083.69</td>\n",
       "      <td>0.98</td>\n",
       "      <td>16</td>\n",
       "      <td>e_0deg</td>\n",
       "      <td>e</td>\n",
       "      <td>0deg</td>\n",
       "      <td>0</td>\n",
       "      <td>0</td>\n",
       "    </tr>\n",
       "  </tbody>\n",
       "</table>\n",
       "</div>"
      ],
      "text/plain": [
       "    RMS  centAngle  centDist   centX    centY  percentValid  ptIdx condition  \\\n",
       "0  0.67     271.72      1.65  341.60  1108.90          1.00     22    e_0deg   \n",
       "1  0.42     295.66      2.22  660.21   833.53          0.94     13    e_0deg   \n",
       "2  0.58     285.25      2.71  785.50   602.52          0.96      4    e_0deg   \n",
       "3  0.61     313.76      2.34  436.32   614.94          1.00      6    e_0deg   \n",
       "4  0.16     284.53      2.58  274.73  1083.69          0.98     16    e_0deg   \n",
       "\n",
       "  subj offset  subjCode  offsetCode  \n",
       "0    e   0deg         0           0  \n",
       "1    e   0deg         0           0  \n",
       "2    e   0deg         0           0  \n",
       "3    e   0deg         0           0  \n",
       "4    e   0deg         0           0  "
      ]
     },
     "execution_count": 13,
     "metadata": {},
     "output_type": "execute_result"
    }
   ],
   "source": [
    "df_0deg.head()"
   ]
  },
  {
   "cell_type": "markdown",
   "metadata": {},
   "source": [
    "Calculate an overall mean across all calibration points for each subject"
   ]
  },
  {
   "cell_type": "code",
   "execution_count": 14,
   "metadata": {
    "collapsed": false
   },
   "outputs": [],
   "source": [
    "subj_mean = df_0deg.groupby('subjCode').mean()\n",
    "subj_sem = df_0deg.groupby('subjCode').sem()"
   ]
  },
  {
   "cell_type": "code",
   "execution_count": 15,
   "metadata": {
    "collapsed": false
   },
   "outputs": [
    {
     "data": {
      "text/html": [
       "<div>\n",
       "<table border=\"1\" class=\"dataframe\">\n",
       "  <thead>\n",
       "    <tr style=\"text-align: right;\">\n",
       "      <th></th>\n",
       "      <th>RMS</th>\n",
       "      <th>centAngle</th>\n",
       "      <th>centDist</th>\n",
       "      <th>centX</th>\n",
       "      <th>centY</th>\n",
       "      <th>condition</th>\n",
       "      <th>offset</th>\n",
       "      <th>offsetCode</th>\n",
       "      <th>percentValid</th>\n",
       "      <th>ptIdx</th>\n",
       "      <th>subj</th>\n",
       "    </tr>\n",
       "    <tr>\n",
       "      <th>subjCode</th>\n",
       "      <th></th>\n",
       "      <th></th>\n",
       "      <th></th>\n",
       "      <th></th>\n",
       "      <th></th>\n",
       "      <th></th>\n",
       "      <th></th>\n",
       "      <th></th>\n",
       "      <th></th>\n",
       "      <th></th>\n",
       "      <th></th>\n",
       "    </tr>\n",
       "  </thead>\n",
       "  <tbody>\n",
       "    <tr>\n",
       "      <th>0</th>\n",
       "      <td>0.067435</td>\n",
       "      <td>2.866142</td>\n",
       "      <td>0.097225</td>\n",
       "      <td>40.240846</td>\n",
       "      <td>38.961296</td>\n",
       "      <td>NaN</td>\n",
       "      <td>NaN</td>\n",
       "      <td>0.0</td>\n",
       "      <td>0.004744</td>\n",
       "      <td>1.47196</td>\n",
       "      <td>NaN</td>\n",
       "    </tr>\n",
       "    <tr>\n",
       "      <th>1</th>\n",
       "      <td>0.053304</td>\n",
       "      <td>1.654441</td>\n",
       "      <td>0.059228</td>\n",
       "      <td>46.078114</td>\n",
       "      <td>41.683077</td>\n",
       "      <td>NaN</td>\n",
       "      <td>NaN</td>\n",
       "      <td>0.0</td>\n",
       "      <td>0.009569</td>\n",
       "      <td>1.47196</td>\n",
       "      <td>NaN</td>\n",
       "    </tr>\n",
       "    <tr>\n",
       "      <th>2</th>\n",
       "      <td>0.067567</td>\n",
       "      <td>8.439920</td>\n",
       "      <td>0.076529</td>\n",
       "      <td>45.961235</td>\n",
       "      <td>51.688067</td>\n",
       "      <td>NaN</td>\n",
       "      <td>NaN</td>\n",
       "      <td>0.0</td>\n",
       "      <td>0.009614</td>\n",
       "      <td>1.47196</td>\n",
       "      <td>NaN</td>\n",
       "    </tr>\n",
       "  </tbody>\n",
       "</table>\n",
       "</div>"
      ],
      "text/plain": [
       "               RMS  centAngle  centDist      centX      centY  condition  \\\n",
       "subjCode                                                                   \n",
       "0         0.067435   2.866142  0.097225  40.240846  38.961296        NaN   \n",
       "1         0.053304   1.654441  0.059228  46.078114  41.683077        NaN   \n",
       "2         0.067567   8.439920  0.076529  45.961235  51.688067        NaN   \n",
       "\n",
       "          offset  offsetCode  percentValid    ptIdx  subj  \n",
       "subjCode                                                   \n",
       "0            NaN         0.0      0.004744  1.47196   NaN  \n",
       "1            NaN         0.0      0.009569  1.47196   NaN  \n",
       "2            NaN         0.0      0.009614  1.47196   NaN  "
      ]
     },
     "execution_count": 15,
     "metadata": {},
     "output_type": "execute_result"
    }
   ],
   "source": [
    "subj_sem"
   ]
  },
  {
   "cell_type": "markdown",
   "metadata": {},
   "source": [
    "### Plot each subject's mean at 0-deg offset"
   ]
  },
  {
   "cell_type": "code",
   "execution_count": 16,
   "metadata": {
    "collapsed": false
   },
   "outputs": [
    {
     "data": {
      "image/png": "[encoded data removed]",
      "text/plain": [
       "<matplotlib.figure.Figure at 0x10d362090>"
      ]
     },
     "metadata": {},
     "output_type": "display_data"
    }
   ],
   "source": [
    "pts = {'subj 1': {'dist':subj_mean.loc[0, 'centDist'], \n",
    "                      'angle': subj_mean.loc[0, 'centAngle'], \n",
    "                      'RMS': subj_mean.loc[0, 'RMS'], \n",
    "                      'color':'darkorange'},\n",
    "      'subj 2': {'dist':subj_mean.loc[1, 'centDist'], \n",
    "                      'angle': subj_mean.loc[1, 'centAngle'], \n",
    "                      'RMS': subj_mean.loc[1, 'RMS'], \n",
    "                      'color':'cadetblue'},\n",
    "      'subj 3 ': {'dist':subj_mean.loc[2, 'centDist'], \n",
    "                      'angle': subj_mean.loc[2, 'centAngle'], \n",
    "                      'RMS': subj_mean.loc[2, 'RMS'], \n",
    "                      'color':'y'}}\n",
    "plotCalibration(pts, 'Subject Means')"
   ]
  },
  {
   "cell_type": "markdown",
   "metadata": {},
   "source": [
    "Calculate the group mean and standard error"
   ]
  },
  {
   "cell_type": "code",
   "execution_count": 31,
   "metadata": {
    "collapsed": false
   },
   "outputs": [
    {
     "data": {
      "text/plain": [
       "RMS               0.509867\n",
       "centAngle       273.264933\n",
       "centDist          1.722400\n",
       "centX           524.584800\n",
       "centY           771.182267\n",
       "percentValid      0.956000\n",
       "ptIdx            13.000000\n",
       "offsetCode        0.000000\n",
       "dtype: float64"
      ]
     },
     "execution_count": 31,
     "metadata": {},
     "output_type": "execute_result"
    }
   ],
   "source": [
    "group_mean = subj_mean.mean()\n",
    "group_sem = subj_mean.sem()\n",
    "group_mean"
   ]
  },
  {
   "cell_type": "markdown",
   "metadata": {},
   "source": [
    "### Plot the group mean at 0-deg offset"
   ]
  },
  {
   "cell_type": "code",
   "execution_count": 18,
   "metadata": {
    "collapsed": false
   },
   "outputs": [
    {
     "data": {
      "image/png": "[encoded data removed]",
      "text/plain": [
       "<matplotlib.figure.Figure at 0x10d329d90>"
      ]
     },
     "metadata": {},
     "output_type": "display_data"
    }
   ],
   "source": [
    "# gather the datapts into a dictionary to submit to the plotting function\n",
    "pts = {'group mean': {'dist':group_mean.centDist, \n",
    "                      'angle': group_mean.centAngle, \n",
    "                      'RMS': group_mean.RMS, \n",
    "                      'color':'firebrick'}}\n",
    "plotCalibration(pts, 'Group Mean')"
   ]
  },
  {
   "cell_type": "markdown",
   "metadata": {},
   "source": [
    "## Are all 25 calibration pts necessary? Compare group mean w/ 25 pts vs 9 pts"
   ]
  },
  {
   "cell_type": "code",
   "execution_count": 19,
   "metadata": {
    "collapsed": false
   },
   "outputs": [
    {
     "name": "stdout",
     "output_type": "stream",
     "text": [
      "[1, 3, 5, 11, 13, 15, 21, 23, 25]\n"
     ]
    }
   ],
   "source": [
    "# Figure out the ptIdx locations for the 9 calibration points \n",
    "ptIndices_set9 = []\n",
    "for y in [1,3,5]:\n",
    "    for x in [1,3,5]:\n",
    "        ptIndices_set9.append(getPtIdx(x,y))\n",
    "print ptIndices_set9\n",
    "        "
   ]
  },
  {
   "cell_type": "code",
   "execution_count": 20,
   "metadata": {
    "collapsed": false
   },
   "outputs": [],
   "source": [
    "# create new dataframe from only the pt indices of the 9-calibration pts\n",
    "df_0deg_calib25 = df_0deg.copy()\n",
    "df_0deg_calib9 = df_0deg_calib25.loc[[x in ptIndices_set9 for x in df_0deg_calib25.ptIdx], :]"
   ]
  },
  {
   "cell_type": "code",
   "execution_count": 30,
   "metadata": {
    "collapsed": false
   },
   "outputs": [
    {
     "data": {
      "text/html": [
       "<div>\n",
       "<table border=\"1\" class=\"dataframe\">\n",
       "  <thead>\n",
       "    <tr style=\"text-align: right;\">\n",
       "      <th></th>\n",
       "      <th>RMS</th>\n",
       "      <th>centAngle</th>\n",
       "      <th>centDist</th>\n",
       "      <th>centX</th>\n",
       "      <th>centY</th>\n",
       "      <th>percentValid</th>\n",
       "      <th>ptIdx</th>\n",
       "      <th>offsetCode</th>\n",
       "    </tr>\n",
       "    <tr>\n",
       "      <th>subjCode</th>\n",
       "      <th></th>\n",
       "      <th></th>\n",
       "      <th></th>\n",
       "      <th></th>\n",
       "      <th></th>\n",
       "      <th></th>\n",
       "      <th></th>\n",
       "      <th></th>\n",
       "    </tr>\n",
       "  </thead>\n",
       "  <tbody>\n",
       "    <tr>\n",
       "      <th>0</th>\n",
       "      <td>0.432222</td>\n",
       "      <td>292.568889</td>\n",
       "      <td>2.711111</td>\n",
       "      <td>660.522222</td>\n",
       "      <td>895.824444</td>\n",
       "      <td>0.977778</td>\n",
       "      <td>13</td>\n",
       "      <td>0</td>\n",
       "    </tr>\n",
       "    <tr>\n",
       "      <th>1</th>\n",
       "      <td>0.301111</td>\n",
       "      <td>263.273333</td>\n",
       "      <td>1.423333</td>\n",
       "      <td>475.088889</td>\n",
       "      <td>734.553333</td>\n",
       "      <td>0.953333</td>\n",
       "      <td>13</td>\n",
       "      <td>0</td>\n",
       "    </tr>\n",
       "    <tr>\n",
       "      <th>2</th>\n",
       "      <td>0.426667</td>\n",
       "      <td>257.862222</td>\n",
       "      <td>1.214444</td>\n",
       "      <td>459.835556</td>\n",
       "      <td>697.223333</td>\n",
       "      <td>0.937778</td>\n",
       "      <td>13</td>\n",
       "      <td>0</td>\n",
       "    </tr>\n",
       "  </tbody>\n",
       "</table>\n",
       "</div>"
      ],
      "text/plain": [
       "               RMS   centAngle  centDist       centX       centY  \\\n",
       "subjCode                                                           \n",
       "0         0.432222  292.568889  2.711111  660.522222  895.824444   \n",
       "1         0.301111  263.273333  1.423333  475.088889  734.553333   \n",
       "2         0.426667  257.862222  1.214444  459.835556  697.223333   \n",
       "\n",
       "          percentValid  ptIdx  offsetCode  \n",
       "subjCode                                   \n",
       "0             0.977778     13           0  \n",
       "1             0.953333     13           0  \n",
       "2             0.937778     13           0  "
      ]
     },
     "execution_count": 30,
     "metadata": {},
     "output_type": "execute_result"
    }
   ],
   "source": [
    "# calculate the mean by subject\n",
    "subj_mean_calib9 = df_0deg_calib9.groupby('subjCode').mean()\n",
    "subj_mean_calib9"
   ]
  },
  {
   "cell_type": "code",
   "execution_count": 29,
   "metadata": {
    "collapsed": false
   },
   "outputs": [
    {
     "data": {
      "text/plain": [
       "RMS               0.386667\n",
       "centAngle       271.234815\n",
       "centDist          1.782963\n",
       "centX           531.815556\n",
       "centY           775.867037\n",
       "percentValid      0.956296\n",
       "ptIdx            13.000000\n",
       "offsetCode        0.000000\n",
       "dtype: float64"
      ]
     },
     "execution_count": 29,
     "metadata": {},
     "output_type": "execute_result"
    }
   ],
   "source": [
    "# calculate the group mean over all subjects\n",
    "group_mean_calib9 = subj_mean_calib9.mean()\n",
    "group_mean_calib9"
   ]
  },
  {
   "cell_type": "markdown",
   "metadata": {},
   "source": [
    "### Plot mean accuracy and RMS with 25pts vs 9pts"
   ]
  },
  {
   "cell_type": "code",
   "execution_count": 23,
   "metadata": {
    "collapsed": false
   },
   "outputs": [
    {
     "data": {
      "image/png": "[encoded data removed]",
      "text/plain": [
       "<matplotlib.figure.Figure at 0x10d47edd0>"
      ]
     },
     "metadata": {},
     "output_type": "display_data"
    }
   ],
   "source": [
    "pts = {'25 pts': {'dist':group_mean.centDist, \n",
    "                      'angle': group_mean.centAngle, \n",
    "                      'RMS': group_mean.RMS, \n",
    "                      'color':'firebrick'},\n",
    "      '9 pts': {'dist':group_mean_calib9.centDist, \n",
    "                      'angle': group_mean_calib9.centAngle, \n",
    "                      'RMS': group_mean_calib9.RMS, \n",
    "                      'color':'slateblue'}}\n",
    "plotCalibration(pts, '25 vs 9 pts')"
   ]
  },
  {
   "cell_type": "code",
   "execution_count": 24,
   "metadata": {
    "collapsed": false
   },
   "outputs": [
    {
     "data": {
      "text/html": [
       "<div>\n",
       "<table border=\"1\" class=\"dataframe\">\n",
       "  <thead>\n",
       "    <tr style=\"text-align: right;\">\n",
       "      <th></th>\n",
       "      <th>RMS</th>\n",
       "      <th>centAngle</th>\n",
       "      <th>centDist</th>\n",
       "      <th>centX</th>\n",
       "      <th>centY</th>\n",
       "      <th>percentValid</th>\n",
       "    </tr>\n",
       "  </thead>\n",
       "  <tbody>\n",
       "    <tr>\n",
       "      <th>25 pts</th>\n",
       "      <td>0.509867</td>\n",
       "      <td>273.264933</td>\n",
       "      <td>1.722400</td>\n",
       "      <td>524.584800</td>\n",
       "      <td>771.182267</td>\n",
       "      <td>0.956000</td>\n",
       "    </tr>\n",
       "    <tr>\n",
       "      <th>9 pts</th>\n",
       "      <td>0.386667</td>\n",
       "      <td>271.234815</td>\n",
       "      <td>1.782963</td>\n",
       "      <td>531.815556</td>\n",
       "      <td>775.867037</td>\n",
       "      <td>0.956296</td>\n",
       "    </tr>\n",
       "  </tbody>\n",
       "</table>\n",
       "</div>"
      ],
      "text/plain": [
       "             RMS   centAngle  centDist       centX       centY  percentValid\n",
       "25 pts  0.509867  273.264933  1.722400  524.584800  771.182267      0.956000\n",
       "9 pts   0.386667  271.234815  1.782963  531.815556  775.867037      0.956296"
      ]
     },
     "execution_count": 24,
     "metadata": {},
     "output_type": "execute_result"
    }
   ],
   "source": [
    "# create a new dataframe with mean results from 25pts vs 9pts; show\n",
    "mean_25vs9pts = pd.concat([group_mean.iloc[:-2], group_mean_calib9.iloc[:-2]], axis=1, ignore_index=True).T\n",
    "mean_25vs9pts.index = ['25 pts', '9 pts']\n",
    "mean_25vs9pts"
   ]
  },
  {
   "cell_type": "markdown",
   "metadata": {},
   "source": [
    "# Accuracy and Precision at varying degrees of offset\n",
    "How is accuracy and precision affected when the calibration grid is located +/- 15 degress off from center"
   ]
  },
  {
   "cell_type": "code",
   "execution_count": 25,
   "metadata": {
    "collapsed": false
   },
   "outputs": [
    {
     "data": {
      "text/html": [
       "<div>\n",
       "<table border=\"1\" class=\"dataframe\">\n",
       "  <thead>\n",
       "    <tr style=\"text-align: right;\">\n",
       "      <th></th>\n",
       "      <th></th>\n",
       "      <th>RMS</th>\n",
       "      <th>centAngle</th>\n",
       "      <th>centDist</th>\n",
       "      <th>centX</th>\n",
       "      <th>centY</th>\n",
       "      <th>percentValid</th>\n",
       "      <th>ptIdx</th>\n",
       "    </tr>\n",
       "    <tr>\n",
       "      <th>offsetCode</th>\n",
       "      <th>subjCode</th>\n",
       "      <th></th>\n",
       "      <th></th>\n",
       "      <th></th>\n",
       "      <th></th>\n",
       "      <th></th>\n",
       "      <th></th>\n",
       "      <th></th>\n",
       "    </tr>\n",
       "  </thead>\n",
       "  <tbody>\n",
       "    <tr>\n",
       "      <th rowspan=\"3\" valign=\"top\">0</th>\n",
       "      <th>0</th>\n",
       "      <td>0.587600</td>\n",
       "      <td>287.932400</td>\n",
       "      <td>2.598800</td>\n",
       "      <td>629.916400</td>\n",
       "      <td>899.728400</td>\n",
       "      <td>0.967200</td>\n",
       "      <td>13.000000</td>\n",
       "    </tr>\n",
       "    <tr>\n",
       "      <th>1</th>\n",
       "      <td>0.340000</td>\n",
       "      <td>265.918000</td>\n",
       "      <td>1.412000</td>\n",
       "      <td>484.222800</td>\n",
       "      <td>732.502400</td>\n",
       "      <td>0.963200</td>\n",
       "      <td>13.000000</td>\n",
       "    </tr>\n",
       "    <tr>\n",
       "      <th>2</th>\n",
       "      <td>0.602000</td>\n",
       "      <td>265.944400</td>\n",
       "      <td>1.156400</td>\n",
       "      <td>459.615200</td>\n",
       "      <td>681.316000</td>\n",
       "      <td>0.937600</td>\n",
       "      <td>13.000000</td>\n",
       "    </tr>\n",
       "    <tr>\n",
       "      <th rowspan=\"3\" valign=\"top\">1</th>\n",
       "      <th>0</th>\n",
       "      <td>0.860435</td>\n",
       "      <td>304.762609</td>\n",
       "      <td>2.288696</td>\n",
       "      <td>733.367826</td>\n",
       "      <td>806.218261</td>\n",
       "      <td>0.920000</td>\n",
       "      <td>12.956522</td>\n",
       "    </tr>\n",
       "    <tr>\n",
       "      <th>1</th>\n",
       "      <td>0.172000</td>\n",
       "      <td>320.306400</td>\n",
       "      <td>1.144400</td>\n",
       "      <td>640.747600</td>\n",
       "      <td>622.665200</td>\n",
       "      <td>0.996800</td>\n",
       "      <td>13.000000</td>\n",
       "    </tr>\n",
       "    <tr>\n",
       "      <th>2</th>\n",
       "      <td>0.898400</td>\n",
       "      <td>327.728800</td>\n",
       "      <td>1.044800</td>\n",
       "      <td>467.245200</td>\n",
       "      <td>579.978800</td>\n",
       "      <td>0.962400</td>\n",
       "      <td>13.000000</td>\n",
       "    </tr>\n",
       "    <tr>\n",
       "      <th rowspan=\"3\" valign=\"top\">2</th>\n",
       "      <th>0</th>\n",
       "      <td>0.643913</td>\n",
       "      <td>279.250435</td>\n",
       "      <td>2.582174</td>\n",
       "      <td>539.248696</td>\n",
       "      <td>915.916522</td>\n",
       "      <td>0.962609</td>\n",
       "      <td>12.608696</td>\n",
       "    </tr>\n",
       "    <tr>\n",
       "      <th>1</th>\n",
       "      <td>0.673750</td>\n",
       "      <td>254.438333</td>\n",
       "      <td>0.729167</td>\n",
       "      <td>424.572500</td>\n",
       "      <td>587.525417</td>\n",
       "      <td>0.910000</td>\n",
       "      <td>13.208333</td>\n",
       "    </tr>\n",
       "    <tr>\n",
       "      <th>2</th>\n",
       "      <td>0.682800</td>\n",
       "      <td>269.136400</td>\n",
       "      <td>1.857200</td>\n",
       "      <td>482.341600</td>\n",
       "      <td>792.570000</td>\n",
       "      <td>0.966400</td>\n",
       "      <td>13.000000</td>\n",
       "    </tr>\n",
       "    <tr>\n",
       "      <th rowspan=\"3\" valign=\"top\">3</th>\n",
       "      <th>0</th>\n",
       "      <td>1.463200</td>\n",
       "      <td>325.764000</td>\n",
       "      <td>1.519600</td>\n",
       "      <td>657.036800</td>\n",
       "      <td>638.960400</td>\n",
       "      <td>0.890400</td>\n",
       "      <td>13.000000</td>\n",
       "    </tr>\n",
       "    <tr>\n",
       "      <th>1</th>\n",
       "      <td>0.206000</td>\n",
       "      <td>345.786000</td>\n",
       "      <td>0.557600</td>\n",
       "      <td>567.419200</td>\n",
       "      <td>536.914800</td>\n",
       "      <td>0.994400</td>\n",
       "      <td>13.000000</td>\n",
       "    </tr>\n",
       "    <tr>\n",
       "      <th>2</th>\n",
       "      <td>1.404783</td>\n",
       "      <td>320.154783</td>\n",
       "      <td>1.608261</td>\n",
       "      <td>407.388261</td>\n",
       "      <td>582.227826</td>\n",
       "      <td>0.931304</td>\n",
       "      <td>12.956522</td>\n",
       "    </tr>\n",
       "    <tr>\n",
       "      <th rowspan=\"3\" valign=\"top\">4</th>\n",
       "      <th>0</th>\n",
       "      <td>1.000455</td>\n",
       "      <td>262.309545</td>\n",
       "      <td>2.008636</td>\n",
       "      <td>456.560455</td>\n",
       "      <td>841.788182</td>\n",
       "      <td>0.941818</td>\n",
       "      <td>13.727273</td>\n",
       "    </tr>\n",
       "    <tr>\n",
       "      <th>1</th>\n",
       "      <td>1.015652</td>\n",
       "      <td>281.558696</td>\n",
       "      <td>1.186957</td>\n",
       "      <td>519.439130</td>\n",
       "      <td>653.727826</td>\n",
       "      <td>0.954783</td>\n",
       "      <td>13.565217</td>\n",
       "    </tr>\n",
       "    <tr>\n",
       "      <th>2</th>\n",
       "      <td>0.731304</td>\n",
       "      <td>261.863913</td>\n",
       "      <td>1.020000</td>\n",
       "      <td>468.412609</td>\n",
       "      <td>635.928696</td>\n",
       "      <td>0.942609</td>\n",
       "      <td>12.434783</td>\n",
       "    </tr>\n",
       "    <tr>\n",
       "      <th rowspan=\"3\" valign=\"top\">5</th>\n",
       "      <th>0</th>\n",
       "      <td>0.757600</td>\n",
       "      <td>317.842400</td>\n",
       "      <td>1.024800</td>\n",
       "      <td>556.008400</td>\n",
       "      <td>616.095600</td>\n",
       "      <td>0.960000</td>\n",
       "      <td>13.000000</td>\n",
       "    </tr>\n",
       "    <tr>\n",
       "      <th>1</th>\n",
       "      <td>0.420000</td>\n",
       "      <td>298.426000</td>\n",
       "      <td>0.866400</td>\n",
       "      <td>565.484000</td>\n",
       "      <td>623.624000</td>\n",
       "      <td>0.959200</td>\n",
       "      <td>13.000000</td>\n",
       "    </tr>\n",
       "    <tr>\n",
       "      <th>2</th>\n",
       "      <td>0.971364</td>\n",
       "      <td>289.843636</td>\n",
       "      <td>1.149545</td>\n",
       "      <td>400.314545</td>\n",
       "      <td>591.517727</td>\n",
       "      <td>0.905455</td>\n",
       "      <td>12.863636</td>\n",
       "    </tr>\n",
       "    <tr>\n",
       "      <th rowspan=\"3\" valign=\"top\">6</th>\n",
       "      <th>0</th>\n",
       "      <td>0.490800</td>\n",
       "      <td>282.216000</td>\n",
       "      <td>2.784400</td>\n",
       "      <td>591.896400</td>\n",
       "      <td>952.385200</td>\n",
       "      <td>0.959200</td>\n",
       "      <td>13.000000</td>\n",
       "    </tr>\n",
       "    <tr>\n",
       "      <th>1</th>\n",
       "      <td>0.326000</td>\n",
       "      <td>265.379600</td>\n",
       "      <td>0.956800</td>\n",
       "      <td>483.658000</td>\n",
       "      <td>648.541200</td>\n",
       "      <td>0.978400</td>\n",
       "      <td>13.000000</td>\n",
       "    </tr>\n",
       "    <tr>\n",
       "      <th>2</th>\n",
       "      <td>0.539200</td>\n",
       "      <td>330.132000</td>\n",
       "      <td>0.724400</td>\n",
       "      <td>552.320800</td>\n",
       "      <td>563.898800</td>\n",
       "      <td>0.955200</td>\n",
       "      <td>13.000000</td>\n",
       "    </tr>\n",
       "  </tbody>\n",
       "</table>\n",
       "</div>"
      ],
      "text/plain": [
       "                          RMS   centAngle  centDist       centX       centY  \\\n",
       "offsetCode subjCode                                                           \n",
       "0          0         0.587600  287.932400  2.598800  629.916400  899.728400   \n",
       "           1         0.340000  265.918000  1.412000  484.222800  732.502400   \n",
       "           2         0.602000  265.944400  1.156400  459.615200  681.316000   \n",
       "1          0         0.860435  304.762609  2.288696  733.367826  806.218261   \n",
       "           1         0.172000  320.306400  1.144400  640.747600  622.665200   \n",
       "           2         0.898400  327.728800  1.044800  467.245200  579.978800   \n",
       "2          0         0.643913  279.250435  2.582174  539.248696  915.916522   \n",
       "           1         0.673750  254.438333  0.729167  424.572500  587.525417   \n",
       "           2         0.682800  269.136400  1.857200  482.341600  792.570000   \n",
       "3          0         1.463200  325.764000  1.519600  657.036800  638.960400   \n",
       "           1         0.206000  345.786000  0.557600  567.419200  536.914800   \n",
       "           2         1.404783  320.154783  1.608261  407.388261  582.227826   \n",
       "4          0         1.000455  262.309545  2.008636  456.560455  841.788182   \n",
       "           1         1.015652  281.558696  1.186957  519.439130  653.727826   \n",
       "           2         0.731304  261.863913  1.020000  468.412609  635.928696   \n",
       "5          0         0.757600  317.842400  1.024800  556.008400  616.095600   \n",
       "           1         0.420000  298.426000  0.866400  565.484000  623.624000   \n",
       "           2         0.971364  289.843636  1.149545  400.314545  591.517727   \n",
       "6          0         0.490800  282.216000  2.784400  591.896400  952.385200   \n",
       "           1         0.326000  265.379600  0.956800  483.658000  648.541200   \n",
       "           2         0.539200  330.132000  0.724400  552.320800  563.898800   \n",
       "\n",
       "                     percentValid      ptIdx  \n",
       "offsetCode subjCode                           \n",
       "0          0             0.967200  13.000000  \n",
       "           1             0.963200  13.000000  \n",
       "           2             0.937600  13.000000  \n",
       "1          0             0.920000  12.956522  \n",
       "           1             0.996800  13.000000  \n",
       "           2             0.962400  13.000000  \n",
       "2          0             0.962609  12.608696  \n",
       "           1             0.910000  13.208333  \n",
       "           2             0.966400  13.000000  \n",
       "3          0             0.890400  13.000000  \n",
       "           1             0.994400  13.000000  \n",
       "           2             0.931304  12.956522  \n",
       "4          0             0.941818  13.727273  \n",
       "           1             0.954783  13.565217  \n",
       "           2             0.942609  12.434783  \n",
       "5          0             0.960000  13.000000  \n",
       "           1             0.959200  13.000000  \n",
       "           2             0.905455  12.863636  \n",
       "6          0             0.959200  13.000000  \n",
       "           1             0.978400  13.000000  \n",
       "           2             0.955200  13.000000  "
      ]
     },
     "execution_count": 25,
     "metadata": {},
     "output_type": "execute_result"
    }
   ],
   "source": [
    "# calculate the mean for every subject by offset condition\n",
    "subjMeanByOffset = dfClean.groupby(['offsetCode', 'subjCode']).mean()\n",
    "subjMeanByOffset"
   ]
  },
  {
   "cell_type": "code",
   "execution_count": 26,
   "metadata": {
    "collapsed": false
   },
   "outputs": [
    {
     "data": {
      "text/html": [
       "<div>\n",
       "<table border=\"1\" class=\"dataframe\">\n",
       "  <thead>\n",
       "    <tr style=\"text-align: right;\">\n",
       "      <th></th>\n",
       "      <th>RMS</th>\n",
       "      <th>centAngle</th>\n",
       "      <th>centDist</th>\n",
       "      <th>centX</th>\n",
       "      <th>centY</th>\n",
       "      <th>percentValid</th>\n",
       "      <th>ptIdx</th>\n",
       "    </tr>\n",
       "    <tr>\n",
       "      <th>offsetCode</th>\n",
       "      <th></th>\n",
       "      <th></th>\n",
       "      <th></th>\n",
       "      <th></th>\n",
       "      <th></th>\n",
       "      <th></th>\n",
       "      <th></th>\n",
       "    </tr>\n",
       "  </thead>\n",
       "  <tbody>\n",
       "    <tr>\n",
       "      <th>0</th>\n",
       "      <td>0.509867</td>\n",
       "      <td>273.264933</td>\n",
       "      <td>1.722400</td>\n",
       "      <td>524.584800</td>\n",
       "      <td>771.182267</td>\n",
       "      <td>0.956000</td>\n",
       "      <td>13.000000</td>\n",
       "    </tr>\n",
       "    <tr>\n",
       "      <th>1</th>\n",
       "      <td>0.643612</td>\n",
       "      <td>317.599270</td>\n",
       "      <td>1.492632</td>\n",
       "      <td>613.786875</td>\n",
       "      <td>669.620754</td>\n",
       "      <td>0.959733</td>\n",
       "      <td>12.985507</td>\n",
       "    </tr>\n",
       "    <tr>\n",
       "      <th>2</th>\n",
       "      <td>0.666821</td>\n",
       "      <td>267.608389</td>\n",
       "      <td>1.722847</td>\n",
       "      <td>482.054265</td>\n",
       "      <td>765.337313</td>\n",
       "      <td>0.946336</td>\n",
       "      <td>12.939010</td>\n",
       "    </tr>\n",
       "    <tr>\n",
       "      <th>3</th>\n",
       "      <td>1.024661</td>\n",
       "      <td>330.568261</td>\n",
       "      <td>1.228487</td>\n",
       "      <td>543.948087</td>\n",
       "      <td>586.034342</td>\n",
       "      <td>0.938701</td>\n",
       "      <td>12.985507</td>\n",
       "    </tr>\n",
       "    <tr>\n",
       "      <th>4</th>\n",
       "      <td>0.915804</td>\n",
       "      <td>268.577385</td>\n",
       "      <td>1.405198</td>\n",
       "      <td>481.470731</td>\n",
       "      <td>710.481568</td>\n",
       "      <td>0.946403</td>\n",
       "      <td>13.242424</td>\n",
       "    </tr>\n",
       "    <tr>\n",
       "      <th>5</th>\n",
       "      <td>0.716321</td>\n",
       "      <td>302.037345</td>\n",
       "      <td>1.013582</td>\n",
       "      <td>507.268982</td>\n",
       "      <td>610.412442</td>\n",
       "      <td>0.941552</td>\n",
       "      <td>12.954545</td>\n",
       "    </tr>\n",
       "    <tr>\n",
       "      <th>6</th>\n",
       "      <td>0.452000</td>\n",
       "      <td>292.575867</td>\n",
       "      <td>1.488533</td>\n",
       "      <td>542.625067</td>\n",
       "      <td>721.608400</td>\n",
       "      <td>0.964267</td>\n",
       "      <td>13.000000</td>\n",
       "    </tr>\n",
       "  </tbody>\n",
       "</table>\n",
       "</div>"
      ],
      "text/plain": [
       "                 RMS   centAngle  centDist       centX       centY  \\\n",
       "offsetCode                                                           \n",
       "0           0.509867  273.264933  1.722400  524.584800  771.182267   \n",
       "1           0.643612  317.599270  1.492632  613.786875  669.620754   \n",
       "2           0.666821  267.608389  1.722847  482.054265  765.337313   \n",
       "3           1.024661  330.568261  1.228487  543.948087  586.034342   \n",
       "4           0.915804  268.577385  1.405198  481.470731  710.481568   \n",
       "5           0.716321  302.037345  1.013582  507.268982  610.412442   \n",
       "6           0.452000  292.575867  1.488533  542.625067  721.608400   \n",
       "\n",
       "            percentValid      ptIdx  \n",
       "offsetCode                           \n",
       "0               0.956000  13.000000  \n",
       "1               0.959733  12.985507  \n",
       "2               0.946336  12.939010  \n",
       "3               0.938701  12.985507  \n",
       "4               0.946403  13.242424  \n",
       "5               0.941552  12.954545  \n",
       "6               0.964267  13.000000  "
      ]
     },
     "execution_count": 26,
     "metadata": {},
     "output_type": "execute_result"
    }
   ],
   "source": [
    "# group according to each offset code and take the mean across all subjects within that condition\n",
    "offSetMeans = subjMeanByOffset.groupby(level='offsetCode').mean()\n",
    "offSetMeans"
   ]
  },
  {
   "cell_type": "code",
   "execution_count": 34,
   "metadata": {
    "collapsed": false
   },
   "outputs": [
    {
     "data": {
      "image/png": "[encoded data removed]",
      "text/plain": [
       "<matplotlib.figure.Figure at 0x110e2fbd0>"
      ]
     },
     "metadata": {},
     "output_type": "display_data"
    }
   ],
   "source": [
    "# Loop through all each offset code (skipping 0), add results to dictionary\n",
    "cmap = plt.get_cmap('spring', offSetMeans.shape[0])\n",
    "pts = {}\n",
    "for i in range(1, offSetMeans.shape[0]):\n",
    "    # get the offset code name\n",
    "    offset_name = dfClean.loc[dfClean.offsetCode == i, 'offset'].iloc[0]\n",
    "    \n",
    "    # get the values from this offset code\n",
    "    dist = offSetMeans.loc[i].centDist\n",
    "    angle = offSetMeans.loc[i].centAngle\n",
    "    rms = offSetMeans.loc[i].RMS\n",
    "    c = cmap(i)\n",
    "    \n",
    "    # build dictionary entry\n",
    "    pts[offset_name] = {'dist': dist, 'angle': angle, 'RMS': rms, 'color': c}\n",
    "\n",
    "# plot the calibration points\n",
    "plotCalibration(pts, 'group mean by offset condition')\n",
    "    "
   ]
  }
 ],
 "metadata": {
  "kernelspec": {
   "display_name": "Python 2",
   "language": "python",
   "name": "python2"
  },
  "language_info": {
   "codemirror_mode": {
    "name": "ipython",
    "version": 2
   },
   "file_extension": ".py",
   "mimetype": "text/x-python",
   "name": "python",
   "nbconvert_exporter": "python",
   "pygments_lexer": "ipython2",
   "version": "2.7.11"
  }
 },
 "nbformat": 4,
 "nbformat_minor": 0
}
